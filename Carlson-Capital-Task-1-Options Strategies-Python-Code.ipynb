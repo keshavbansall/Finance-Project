{
 "cells": [
  {
   "cell_type": "markdown",
   "metadata": {},
   "source": [
    "## Importing Libraries"
   ]
  },
  {
   "cell_type": "code",
   "execution_count": 3,
   "metadata": {
    "colab": {
     "base_uri": "https://localhost:8080/"
    },
    "executionInfo": {
     "elapsed": 7309,
     "status": "ok",
     "timestamp": 1718048573472,
     "user": {
      "displayName": "aman sanwal",
      "userId": "08675761592837002016"
     },
     "user_tz": -330
    },
    "id": "3I87sN70GLP6",
    "outputId": "efc81856-5b33-4068-a88d-a2336170518f"
   },
   "outputs": [
    {
     "name": "stdout",
     "output_type": "stream",
     "text": [
      "zsh:1: command not found: pip\n"
     ]
    }
   ],
   "source": [
    "!pip install py_vollib\n",
    "import pandas as pd\n",
    "import numpy as np\n",
    "import math\n",
    "import matplotlib.pyplot as plt\n",
    "import yfinance as yf\n",
    "import scipy.stats as si\n",
    "from py_vollib.black_scholes import black_scholes as bs\n",
    "from py_vollib.black_scholes.greeks.analytical import vega"
   ]
  },
  {
   "cell_type": "code",
   "execution_count": 4,
   "metadata": {
    "executionInfo": {
     "elapsed": 9,
     "status": "ok",
     "timestamp": 1718048573473,
     "user": {
      "displayName": "aman sanwal",
      "userId": "08675761592837002016"
     },
     "user_tz": -330
    },
    "id": "65JstQtyKf6q"
   },
   "outputs": [],
   "source": [
    "import warnings\n",
    "warnings.filterwarnings('ignore')"
   ]
  },
  {
   "cell_type": "code",
   "execution_count": 5,
   "metadata": {
    "executionInfo": {
     "elapsed": 8,
     "status": "ok",
     "timestamp": 1718048573473,
     "user": {
      "displayName": "aman sanwal",
      "userId": "08675761592837002016"
     },
     "user_tz": -330
    },
    "id": "fbfmNjB9Kf6r"
   },
   "outputs": [],
   "source": [
    "from datetime import datetime"
   ]
  },
  {
   "cell_type": "markdown",
   "metadata": {},
   "source": [
    "## Defining functions for Implied Volatility and VEGA"
   ]
  },
  {
   "cell_type": "code",
   "execution_count": 6,
   "metadata": {
    "executionInfo": {
     "elapsed": 8,
     "status": "ok",
     "timestamp": 1718048573473,
     "user": {
      "displayName": "aman sanwal",
      "userId": "08675761592837002016"
     },
     "user_tz": -330
    },
    "id": "_XENqlXkHj_z"
   },
   "outputs": [],
   "source": [
    "def norm(x):\n",
    "    norm = si.norm.cdf(x,0.0,1.0)\n",
    "    return(norm)"
   ]
  },
  {
   "cell_type": "code",
   "execution_count": 7,
   "metadata": {
    "executionInfo": {
     "elapsed": 8,
     "status": "ok",
     "timestamp": 1718048573473,
     "user": {
      "displayName": "aman sanwal",
      "userId": "08675761592837002016"
     },
     "user_tz": -330
    },
    "id": "6BWR3hwnLHCJ"
   },
   "outputs": [],
   "source": [
    "def BlackScholesCall(S,X,r,T,σ):\n",
    "    d1 = ( (np.log(S/X)+(r+0.5*σ**2)*T) / (σ*np.sqrt(T)) )\n",
    "    d2 = ( (np.log(S/X)+(r-0.5*σ**2)*T) / (σ*np.sqrt(T)) )\n",
    "    BlackScholesCall = S*norm(d1) - X*np.exp(-r*T)*norm(d2)\n",
    "    return (BlackScholesCall)"
   ]
  },
  {
   "cell_type": "code",
   "execution_count": 8,
   "metadata": {
    "executionInfo": {
     "elapsed": 973,
     "status": "ok",
     "timestamp": 1718048574438,
     "user": {
      "displayName": "aman sanwal",
      "userId": "08675761592837002016"
     },
     "user_tz": -330
    },
    "id": "gueR2OnULO4b"
   },
   "outputs": [],
   "source": [
    "def BlackScholesPut(S,X,r,T,σ):\n",
    "    d1 = ( (np.log(S/X)+(r+0.5*σ**2)*T) / (σ*np.sqrt(T)) )\n",
    "    d2 = ( (np.log(S/X)+(r-0.5*σ**2)*T) / (σ*np.sqrt(T)) )\n",
    "    BlackScholesPut = X*np.exp(-r*T)*norm(-d2) - S*norm(-d1)\n",
    "    return (BlackScholesPut)"
   ]
  },
  {
   "cell_type": "code",
   "execution_count": 9,
   "metadata": {
    "executionInfo": {
     "elapsed": 987,
     "status": "ok",
     "timestamp": 1718048574452,
     "user": {
      "displayName": "aman sanwal",
      "userId": "08675761592837002016"
     },
     "user_tz": -330
    },
    "id": "EcnGduicLbb5"
   },
   "outputs": [],
   "source": [
    "def implied_vol(S0, K, T, r, market_price, flag='c', tol=0.00001):\n",
    "    \"\"\"Compute the implied volatility of a European Option\n",
    "        S0: stock price\n",
    "        K:  strike price\n",
    "        T:  time to maturity\n",
    "        r:  risk-free rate\n",
    "        market_price: option price\n",
    "        tol: user choosen tolerance\n",
    "    \"\"\"\n",
    "    max_iter = 200 #max number of iterations\n",
    "    vol_old = 0.30 #initial guess\n",
    "\n",
    "    for k in range(max_iter):\n",
    "        bs_price = bs(flag, S0, K, T, r, vol_old)\n",
    "        Cprime =  vega(flag, S0, K, T, r, vol_old)*100\n",
    "        C = bs_price - market_price\n",
    "        vol_new = vol_old - C/Cprime\n",
    "        bs_new = bs(flag, S0, K, T, r, vol_new)\n",
    "\n",
    "        if (abs(vol_old - vol_new) < tol or abs(bs_new - market_price) < tol):\n",
    "            break\n",
    "        vol_old = vol_new\n",
    "\n",
    "    implied_vol = vol_old\n",
    "    return implied_vol"
   ]
  },
  {
   "cell_type": "code",
   "execution_count": 10,
   "metadata": {
    "executionInfo": {
     "elapsed": 46,
     "status": "ok",
     "timestamp": 1718048574452,
     "user": {
      "displayName": "aman sanwal",
      "userId": "08675761592837002016"
     },
     "user_tz": -330
    },
    "id": "EWpscA_iTV9_"
   },
   "outputs": [],
   "source": [
    "def implied_vol_percentile(obj,i):\n",
    "  t=i-1\n",
    "  count=0\n",
    "  while(t>=0):\n",
    "      if(obj['iv'].iloc[i]>obj['iv'].iloc[t]):\n",
    "          count+=1\n",
    "  return (count/(i-1))"
   ]
  },
  {
   "cell_type": "code",
   "execution_count": 11,
   "metadata": {
    "executionInfo": {
     "elapsed": 46,
     "status": "ok",
     "timestamp": 1718048574452,
     "user": {
      "displayName": "aman sanwal",
      "userId": "08675761592837002016"
     },
     "user_tz": -330
    },
    "id": "yWLFYUAJKf6t"
   },
   "outputs": [],
   "source": [
    "def change_type_date(stock):\n",
    "    for i in range(len(stock['Date'])):\n",
    "        obj=datetime.strptime(stock['Date'].iloc[i],'%a %b %d %Y %H:%M:%S GMT%z (India Standard Time)')\n",
    "        stock['Date'].iloc[i]=obj.strftime(\"%Y-%m-%d %H:%M:%S\")\n",
    "    return stock"
   ]
  },
  {
   "cell_type": "code",
   "execution_count": 12,
   "metadata": {
    "executionInfo": {
     "elapsed": 46,
     "status": "ok",
     "timestamp": 1718048574452,
     "user": {
      "displayName": "aman sanwal",
      "userId": "08675761592837002016"
     },
     "user_tz": -330
    },
    "id": "ck0QiW1DKf6t"
   },
   "outputs": [],
   "source": [
    "def diff_dates(dt1,dt2):\n",
    "    # Parse the dates\n",
    "    date1 = datetime.strptime(dt1, \"%Y-%m-%d %H:%M:%S\")\n",
    "    date2 = datetime.strptime(dt2, \"%Y-%m-%d %H:%M:%S\")\n",
    "\n",
    "    difference_in_days = (date2 - date1).days\n",
    "\n",
    "\n",
    "    difference_in_years = difference_in_days / 365.25  # Accounting for leap years\n",
    "\n",
    "    return difference_in_years"
   ]
  },
  {
   "cell_type": "code",
   "execution_count": 13,
   "metadata": {
    "executionInfo": {
     "elapsed": 45,
     "status": "ok",
     "timestamp": 1718048574452,
     "user": {
      "displayName": "aman sanwal",
      "userId": "08675761592837002016"
     },
     "user_tz": -330
    },
    "id": "yHhj8E5jKf6t"
   },
   "outputs": [],
   "source": [
    "#data\n",
    "\n",
    "#data=pd.read_csv('./NIFTY 16th MAY 22200 CE.csv')\n",
    "#data_put=pd.read_csv('./NIFTY 16th MAY 22200 PE.csv')\n",
    "stock=pd.read_csv('./NIFTY 50 stock data.csv')\n"
   ]
  },
  {
   "cell_type": "code",
   "execution_count": 14,
   "metadata": {
    "colab": {
     "base_uri": "https://localhost:8080/",
     "height": 454
    },
    "executionInfo": {
     "elapsed": 45,
     "status": "ok",
     "timestamp": 1718048574452,
     "user": {
      "displayName": "aman sanwal",
      "userId": "08675761592837002016"
     },
     "user_tz": -330
    },
    "id": "6l3lOnQEKf6u",
    "outputId": "80919334-bc21-4ac4-937e-fb0abd93ecf6"
   },
   "outputs": [
    {
     "data": {
      "text/html": [
       "<div>\n",
       "<style scoped>\n",
       "    .dataframe tbody tr th:only-of-type {\n",
       "        vertical-align: middle;\n",
       "    }\n",
       "\n",
       "    .dataframe tbody tr th {\n",
       "        vertical-align: top;\n",
       "    }\n",
       "\n",
       "    .dataframe thead th {\n",
       "        text-align: right;\n",
       "    }\n",
       "</style>\n",
       "<table border=\"1\" class=\"dataframe\">\n",
       "  <thead>\n",
       "    <tr style=\"text-align: right;\">\n",
       "      <th></th>\n",
       "      <th>Open</th>\n",
       "      <th>High</th>\n",
       "      <th>Low</th>\n",
       "      <th>Close</th>\n",
       "      <th>Trend ‌Supertrend‌ (7,3)</th>\n",
       "    </tr>\n",
       "    <tr>\n",
       "      <th>Date</th>\n",
       "      <th></th>\n",
       "      <th></th>\n",
       "      <th></th>\n",
       "      <th></th>\n",
       "      <th></th>\n",
       "    </tr>\n",
       "  </thead>\n",
       "  <tbody>\n",
       "    <tr>\n",
       "      <th>2024-05-09 10:00:00</th>\n",
       "      <td>22219.80</td>\n",
       "      <td>22231.35</td>\n",
       "      <td>22209.85</td>\n",
       "      <td>22221.40</td>\n",
       "      <td>22317.55</td>\n",
       "    </tr>\n",
       "    <tr>\n",
       "      <th>2024-05-09 10:05:00</th>\n",
       "      <td>22222.75</td>\n",
       "      <td>22237.15</td>\n",
       "      <td>22219.75</td>\n",
       "      <td>22229.25</td>\n",
       "      <td>22317.55</td>\n",
       "    </tr>\n",
       "    <tr>\n",
       "      <th>2024-05-09 10:10:00</th>\n",
       "      <td>22230.10</td>\n",
       "      <td>22234.85</td>\n",
       "      <td>22188.35</td>\n",
       "      <td>22194.40</td>\n",
       "      <td>22309.15</td>\n",
       "    </tr>\n",
       "    <tr>\n",
       "      <th>2024-05-09 10:15:00</th>\n",
       "      <td>22194.40</td>\n",
       "      <td>22210.25</td>\n",
       "      <td>22184.00</td>\n",
       "      <td>22200.00</td>\n",
       "      <td>22291.99</td>\n",
       "    </tr>\n",
       "    <tr>\n",
       "      <th>2024-05-09 10:20:00</th>\n",
       "      <td>22200.05</td>\n",
       "      <td>22201.20</td>\n",
       "      <td>22151.60</td>\n",
       "      <td>22151.60</td>\n",
       "      <td>22278.97</td>\n",
       "    </tr>\n",
       "    <tr>\n",
       "      <th>...</th>\n",
       "      <td>...</td>\n",
       "      <td>...</td>\n",
       "      <td>...</td>\n",
       "      <td>...</td>\n",
       "      <td>...</td>\n",
       "    </tr>\n",
       "    <tr>\n",
       "      <th>2024-05-14 15:05:00</th>\n",
       "      <td>22203.55</td>\n",
       "      <td>22223.80</td>\n",
       "      <td>22198.45</td>\n",
       "      <td>22222.45</td>\n",
       "      <td>22272.40</td>\n",
       "    </tr>\n",
       "    <tr>\n",
       "      <th>2024-05-14 15:10:00</th>\n",
       "      <td>22222.65</td>\n",
       "      <td>22228.35</td>\n",
       "      <td>22218.70</td>\n",
       "      <td>22222.05</td>\n",
       "      <td>22272.40</td>\n",
       "    </tr>\n",
       "    <tr>\n",
       "      <th>2024-05-14 15:15:00</th>\n",
       "      <td>22221.10</td>\n",
       "      <td>22226.95</td>\n",
       "      <td>22217.25</td>\n",
       "      <td>22220.65</td>\n",
       "      <td>22272.40</td>\n",
       "    </tr>\n",
       "    <tr>\n",
       "      <th>2024-05-14 15:20:00</th>\n",
       "      <td>22221.20</td>\n",
       "      <td>22225.45</td>\n",
       "      <td>22215.30</td>\n",
       "      <td>22215.55</td>\n",
       "      <td>22269.91</td>\n",
       "    </tr>\n",
       "    <tr>\n",
       "      <th>2024-05-14 15:25:00</th>\n",
       "      <td>22216.65</td>\n",
       "      <td>22226.60</td>\n",
       "      <td>22214.30</td>\n",
       "      <td>22223.80</td>\n",
       "      <td>22268.18</td>\n",
       "    </tr>\n",
       "  </tbody>\n",
       "</table>\n",
       "<p>291 rows × 5 columns</p>\n",
       "</div>"
      ],
      "text/plain": [
       "                         Open      High       Low     Close  \\\n",
       "Date                                                          \n",
       "2024-05-09 10:00:00  22219.80  22231.35  22209.85  22221.40   \n",
       "2024-05-09 10:05:00  22222.75  22237.15  22219.75  22229.25   \n",
       "2024-05-09 10:10:00  22230.10  22234.85  22188.35  22194.40   \n",
       "2024-05-09 10:15:00  22194.40  22210.25  22184.00  22200.00   \n",
       "2024-05-09 10:20:00  22200.05  22201.20  22151.60  22151.60   \n",
       "...                       ...       ...       ...       ...   \n",
       "2024-05-14 15:05:00  22203.55  22223.80  22198.45  22222.45   \n",
       "2024-05-14 15:10:00  22222.65  22228.35  22218.70  22222.05   \n",
       "2024-05-14 15:15:00  22221.10  22226.95  22217.25  22220.65   \n",
       "2024-05-14 15:20:00  22221.20  22225.45  22215.30  22215.55   \n",
       "2024-05-14 15:25:00  22216.65  22226.60  22214.30  22223.80   \n",
       "\n",
       "                     Trend ‌Supertrend‌ (7,3)  \n",
       "Date                                           \n",
       "2024-05-09 10:00:00                  22317.55  \n",
       "2024-05-09 10:05:00                  22317.55  \n",
       "2024-05-09 10:10:00                  22309.15  \n",
       "2024-05-09 10:15:00                  22291.99  \n",
       "2024-05-09 10:20:00                  22278.97  \n",
       "...                                       ...  \n",
       "2024-05-14 15:05:00                  22272.40  \n",
       "2024-05-14 15:10:00                  22272.40  \n",
       "2024-05-14 15:15:00                  22272.40  \n",
       "2024-05-14 15:20:00                  22269.91  \n",
       "2024-05-14 15:25:00                  22268.18  \n",
       "\n",
       "[291 rows x 5 columns]"
      ]
     },
     "execution_count": 14,
     "metadata": {},
     "output_type": "execute_result"
    }
   ],
   "source": [
    "stock=change_type_date(stock)\n",
    "stock=stock.set_index('Date')\n",
    "stock"
   ]
  },
  {
   "cell_type": "code",
   "execution_count": 18,
   "metadata": {
    "executionInfo": {
     "elapsed": 43,
     "status": "ok",
     "timestamp": 1718048574453,
     "user": {
      "displayName": "aman sanwal",
      "userId": "08675761592837002016"
     },
     "user_tz": -330
    },
    "id": "FXyLBhySKf6w"
   },
   "outputs": [],
   "source": [
    "#data.index"
   ]
  },
  {
   "cell_type": "code",
   "execution_count": 23,
   "metadata": {
    "executionInfo": {
     "elapsed": 40,
     "status": "ok",
     "timestamp": 1718048574453,
     "user": {
      "displayName": "aman sanwal",
      "userId": "08675761592837002016"
     },
     "user_tz": -330
    },
    "id": "1zphNymHKf6x",
    "scrolled": true
   },
   "outputs": [],
   "source": [
    "def IVper(data):\n",
    "    percentiles=[0]\n",
    "    from scipy.stats import percentileofscore\n",
    "    for i in range(len(data['iv'])):\n",
    "        if(i!=0):\n",
    "            if(i>=0 and i<66):\n",
    "                percentiles.append(percentileofscore(data['iv'][0:i], data['iv'][i]))\n",
    "            if(i>=66 and i<141):\n",
    "                percentiles.append(percentileofscore(data['iv'][66:i], data['iv'][i]))\n",
    "            if(i>=141 and i<216):\n",
    "                percentiles.append(percentileofscore(data['iv'][141:i], data['iv'][i]))\n",
    "            if(i>=216 and i<291):\n",
    "                percentiles.append(percentileofscore(data['iv'][216:i], data['iv'][i]))\n",
    "    append_df=pd.Series(percentiles,index=data.index)\n",
    "    data['IVper']=append_df\n",
    "    return data"
   ]
  },
  {
   "cell_type": "code",
   "execution_count": 27,
   "metadata": {
    "executionInfo": {
     "elapsed": 38,
     "status": "ok",
     "timestamp": 1718048574453,
     "user": {
      "displayName": "aman sanwal",
      "userId": "08675761592837002016"
     },
     "user_tz": -330
    },
    "id": "O-YOQgvlKf6y",
    "scrolled": true
   },
   "outputs": [],
   "source": [
    "def vegacal(data,type):\n",
    "    list_vega=[]\n",
    "    for i in range(len(data['Close'])):\n",
    "        vega_val=vega( type,data['spot'].iloc[i], 22200,data['T'].iloc[i] , 0.04, data['iv'].iloc[i])\n",
    "        list_vega.append(vega_val)\n",
    "\n",
    "    append_df=pd.Series(list_vega,index=data.index)\n",
    "    data['vega']=append_df\n",
    "    return data\n"
   ]
  },
  {
   "cell_type": "code",
   "execution_count": 31,
   "metadata": {
    "executionInfo": {
     "elapsed": 39,
     "status": "ok",
     "timestamp": 1718048574454,
     "user": {
      "displayName": "aman sanwal",
      "userId": "08675761592837002016"
     },
     "user_tz": -330
    },
    "id": "miGUx_-nKf6y"
   },
   "outputs": [],
   "source": [
    "def create_iv_ivper_vega(obj,type):\n",
    "    obj=change_type_date(obj)\n",
    "    obj=obj.set_index('Date')\n",
    "    obj['spot']=stock['Close']\n",
    "    list_ans=[]\n",
    "    for i in obj.index:\n",
    "        x=diff_dates(i,'2024-05-16 10:00:00')\n",
    "        list_ans.append(x)\n",
    "\n",
    "    append_df=pd.Series(list_ans,index=obj.index)\n",
    "    obj['T']=append_df\n",
    "    list_iv=[]\n",
    "    for i in range(len(obj['Close'])):\n",
    "        impliedvol=implied_vol(obj['spot'].iloc[i],22200,obj['T'].iloc[i],0.02,obj['Close'].iloc[i],flag=type)\n",
    "        list_iv.append(impliedvol)\n",
    "    iv=pd.Series(list_iv,index=obj.index)\n",
    "    obj['iv']=iv\n",
    "    obj=IVper(obj)\n",
    "    obj=vegacal(obj,type)\n",
    "    return obj"
   ]
  },
  {
   "cell_type": "markdown",
   "metadata": {
    "id": "07cQ8BveKf6y"
   },
   "source": [
    "## Strategy"
   ]
  },
  {
   "cell_type": "code",
   "execution_count": 32,
   "metadata": {
    "executionInfo": {
     "elapsed": 7285,
     "status": "ok",
     "timestamp": 1718048581700,
     "user": {
      "displayName": "aman sanwal",
      "userId": "08675761592837002016"
     },
     "user_tz": -330
    },
    "id": "7s6LqcWSKf6y"
   },
   "outputs": [],
   "source": [
    "call_data=[]\n",
    "put_data=[]\n",
    "for i in range(21850,22350,50):\n",
    "    call=pd.read_csv(f'./NIFTY 16th MAY {i} CE.csv')\n",
    "    put=pd.read_csv(f'./NIFTY 16th MAY {i} PE.csv')\n",
    "    call_data.append(create_iv_ivper_vega(call,'c'))\n",
    "    put_data.append(create_iv_ivper_vega(put,'p'))"
   ]
  },
  {
   "cell_type": "code",
   "execution_count": 33,
   "metadata": {
    "colab": {
     "base_uri": "https://localhost:8080/",
     "height": 454
    },
    "executionInfo": {
     "elapsed": 25,
     "status": "ok",
     "timestamp": 1718048581701,
     "user": {
      "displayName": "aman sanwal",
      "userId": "08675761592837002016"
     },
     "user_tz": -330
    },
    "id": "IGxEkw1qKf6y",
    "outputId": "1982ce44-bc10-48c4-ba62-142e3362a34a"
   },
   "outputs": [
    {
     "data": {
      "text/html": [
       "<div>\n",
       "<style scoped>\n",
       "    .dataframe tbody tr th:only-of-type {\n",
       "        vertical-align: middle;\n",
       "    }\n",
       "\n",
       "    .dataframe tbody tr th {\n",
       "        vertical-align: top;\n",
       "    }\n",
       "\n",
       "    .dataframe thead th {\n",
       "        text-align: right;\n",
       "    }\n",
       "</style>\n",
       "<table border=\"1\" class=\"dataframe\">\n",
       "  <thead>\n",
       "    <tr style=\"text-align: right;\">\n",
       "      <th></th>\n",
       "      <th>Open</th>\n",
       "      <th>High</th>\n",
       "      <th>Low</th>\n",
       "      <th>Close</th>\n",
       "      <th>Trend ‌Supertrend‌ (7,3)</th>\n",
       "    </tr>\n",
       "    <tr>\n",
       "      <th>Date</th>\n",
       "      <th></th>\n",
       "      <th></th>\n",
       "      <th></th>\n",
       "      <th></th>\n",
       "      <th></th>\n",
       "    </tr>\n",
       "  </thead>\n",
       "  <tbody>\n",
       "    <tr>\n",
       "      <th>2024-05-09 10:00:00</th>\n",
       "      <td>22219.80</td>\n",
       "      <td>22231.35</td>\n",
       "      <td>22209.85</td>\n",
       "      <td>22221.40</td>\n",
       "      <td>22317.55</td>\n",
       "    </tr>\n",
       "    <tr>\n",
       "      <th>2024-05-09 10:05:00</th>\n",
       "      <td>22222.75</td>\n",
       "      <td>22237.15</td>\n",
       "      <td>22219.75</td>\n",
       "      <td>22229.25</td>\n",
       "      <td>22317.55</td>\n",
       "    </tr>\n",
       "    <tr>\n",
       "      <th>2024-05-09 10:10:00</th>\n",
       "      <td>22230.10</td>\n",
       "      <td>22234.85</td>\n",
       "      <td>22188.35</td>\n",
       "      <td>22194.40</td>\n",
       "      <td>22309.15</td>\n",
       "    </tr>\n",
       "    <tr>\n",
       "      <th>2024-05-09 10:15:00</th>\n",
       "      <td>22194.40</td>\n",
       "      <td>22210.25</td>\n",
       "      <td>22184.00</td>\n",
       "      <td>22200.00</td>\n",
       "      <td>22291.99</td>\n",
       "    </tr>\n",
       "    <tr>\n",
       "      <th>2024-05-09 10:20:00</th>\n",
       "      <td>22200.05</td>\n",
       "      <td>22201.20</td>\n",
       "      <td>22151.60</td>\n",
       "      <td>22151.60</td>\n",
       "      <td>22278.97</td>\n",
       "    </tr>\n",
       "    <tr>\n",
       "      <th>...</th>\n",
       "      <td>...</td>\n",
       "      <td>...</td>\n",
       "      <td>...</td>\n",
       "      <td>...</td>\n",
       "      <td>...</td>\n",
       "    </tr>\n",
       "    <tr>\n",
       "      <th>2024-05-14 15:05:00</th>\n",
       "      <td>22203.55</td>\n",
       "      <td>22223.80</td>\n",
       "      <td>22198.45</td>\n",
       "      <td>22222.45</td>\n",
       "      <td>22272.40</td>\n",
       "    </tr>\n",
       "    <tr>\n",
       "      <th>2024-05-14 15:10:00</th>\n",
       "      <td>22222.65</td>\n",
       "      <td>22228.35</td>\n",
       "      <td>22218.70</td>\n",
       "      <td>22222.05</td>\n",
       "      <td>22272.40</td>\n",
       "    </tr>\n",
       "    <tr>\n",
       "      <th>2024-05-14 15:15:00</th>\n",
       "      <td>22221.10</td>\n",
       "      <td>22226.95</td>\n",
       "      <td>22217.25</td>\n",
       "      <td>22220.65</td>\n",
       "      <td>22272.40</td>\n",
       "    </tr>\n",
       "    <tr>\n",
       "      <th>2024-05-14 15:20:00</th>\n",
       "      <td>22221.20</td>\n",
       "      <td>22225.45</td>\n",
       "      <td>22215.30</td>\n",
       "      <td>22215.55</td>\n",
       "      <td>22269.91</td>\n",
       "    </tr>\n",
       "    <tr>\n",
       "      <th>2024-05-14 15:25:00</th>\n",
       "      <td>22216.65</td>\n",
       "      <td>22226.60</td>\n",
       "      <td>22214.30</td>\n",
       "      <td>22223.80</td>\n",
       "      <td>22268.18</td>\n",
       "    </tr>\n",
       "  </tbody>\n",
       "</table>\n",
       "<p>291 rows × 5 columns</p>\n",
       "</div>"
      ],
      "text/plain": [
       "                         Open      High       Low     Close  \\\n",
       "Date                                                          \n",
       "2024-05-09 10:00:00  22219.80  22231.35  22209.85  22221.40   \n",
       "2024-05-09 10:05:00  22222.75  22237.15  22219.75  22229.25   \n",
       "2024-05-09 10:10:00  22230.10  22234.85  22188.35  22194.40   \n",
       "2024-05-09 10:15:00  22194.40  22210.25  22184.00  22200.00   \n",
       "2024-05-09 10:20:00  22200.05  22201.20  22151.60  22151.60   \n",
       "...                       ...       ...       ...       ...   \n",
       "2024-05-14 15:05:00  22203.55  22223.80  22198.45  22222.45   \n",
       "2024-05-14 15:10:00  22222.65  22228.35  22218.70  22222.05   \n",
       "2024-05-14 15:15:00  22221.10  22226.95  22217.25  22220.65   \n",
       "2024-05-14 15:20:00  22221.20  22225.45  22215.30  22215.55   \n",
       "2024-05-14 15:25:00  22216.65  22226.60  22214.30  22223.80   \n",
       "\n",
       "                     Trend ‌Supertrend‌ (7,3)  \n",
       "Date                                           \n",
       "2024-05-09 10:00:00                  22317.55  \n",
       "2024-05-09 10:05:00                  22317.55  \n",
       "2024-05-09 10:10:00                  22309.15  \n",
       "2024-05-09 10:15:00                  22291.99  \n",
       "2024-05-09 10:20:00                  22278.97  \n",
       "...                                       ...  \n",
       "2024-05-14 15:05:00                  22272.40  \n",
       "2024-05-14 15:10:00                  22272.40  \n",
       "2024-05-14 15:15:00                  22272.40  \n",
       "2024-05-14 15:20:00                  22269.91  \n",
       "2024-05-14 15:25:00                  22268.18  \n",
       "\n",
       "[291 rows x 5 columns]"
      ]
     },
     "execution_count": 33,
     "metadata": {},
     "output_type": "execute_result"
    }
   ],
   "source": [
    "stock"
   ]
  },
  {
   "cell_type": "code",
   "execution_count": 34,
   "metadata": {
    "colab": {
     "base_uri": "https://localhost:8080/",
     "height": 663
    },
    "executionInfo": {
     "elapsed": 24,
     "status": "ok",
     "timestamp": 1718048581701,
     "user": {
      "displayName": "aman sanwal",
      "userId": "08675761592837002016"
     },
     "user_tz": -330
    },
    "id": "U_6uHA_kOF1v",
    "outputId": "b7904fae-7395-4e7c-eb27-9addb566f801"
   },
   "outputs": [
    {
     "data": {
      "text/html": [
       "<div>\n",
       "<style scoped>\n",
       "    .dataframe tbody tr th:only-of-type {\n",
       "        vertical-align: middle;\n",
       "    }\n",
       "\n",
       "    .dataframe tbody tr th {\n",
       "        vertical-align: top;\n",
       "    }\n",
       "\n",
       "    .dataframe thead th {\n",
       "        text-align: right;\n",
       "    }\n",
       "</style>\n",
       "<table border=\"1\" class=\"dataframe\">\n",
       "  <thead>\n",
       "    <tr style=\"text-align: right;\">\n",
       "      <th></th>\n",
       "      <th>Open</th>\n",
       "      <th>High</th>\n",
       "      <th>Low</th>\n",
       "      <th>Close</th>\n",
       "      <th>Trend ‌Supertrend‌ (7,3)</th>\n",
       "      <th>MACD</th>\n",
       "      <th>Signal_MACD</th>\n",
       "      <th>IBS</th>\n",
       "      <th>weight_avg</th>\n",
       "    </tr>\n",
       "    <tr>\n",
       "      <th>Date</th>\n",
       "      <th></th>\n",
       "      <th></th>\n",
       "      <th></th>\n",
       "      <th></th>\n",
       "      <th></th>\n",
       "      <th></th>\n",
       "      <th></th>\n",
       "      <th></th>\n",
       "      <th></th>\n",
       "    </tr>\n",
       "  </thead>\n",
       "  <tbody>\n",
       "    <tr>\n",
       "      <th>2024-05-09 10:00:00</th>\n",
       "      <td>22219.80</td>\n",
       "      <td>22231.35</td>\n",
       "      <td>22209.85</td>\n",
       "      <td>22221.40</td>\n",
       "      <td>22317.55</td>\n",
       "      <td>0.000000</td>\n",
       "      <td>0.000000</td>\n",
       "      <td>0.537209</td>\n",
       "      <td>0.537209</td>\n",
       "    </tr>\n",
       "    <tr>\n",
       "      <th>2024-05-09 10:05:00</th>\n",
       "      <td>22222.75</td>\n",
       "      <td>22237.15</td>\n",
       "      <td>22219.75</td>\n",
       "      <td>22229.25</td>\n",
       "      <td>22317.55</td>\n",
       "      <td>0.666313</td>\n",
       "      <td>0.133263</td>\n",
       "      <td>0.545977</td>\n",
       "      <td>0.542470</td>\n",
       "    </tr>\n",
       "    <tr>\n",
       "      <th>2024-05-09 10:10:00</th>\n",
       "      <td>22230.10</td>\n",
       "      <td>22234.85</td>\n",
       "      <td>22188.35</td>\n",
       "      <td>22194.40</td>\n",
       "      <td>22309.15</td>\n",
       "      <td>-1.773927</td>\n",
       "      <td>-0.248175</td>\n",
       "      <td>0.130108</td>\n",
       "      <td>0.347140</td>\n",
       "    </tr>\n",
       "    <tr>\n",
       "      <th>2024-05-09 10:15:00</th>\n",
       "      <td>22194.40</td>\n",
       "      <td>22210.25</td>\n",
       "      <td>22184.00</td>\n",
       "      <td>22200.00</td>\n",
       "      <td>22291.99</td>\n",
       "      <td>-3.202190</td>\n",
       "      <td>-0.838978</td>\n",
       "      <td>0.609524</td>\n",
       "      <td>0.456130</td>\n",
       "    </tr>\n",
       "    <tr>\n",
       "      <th>2024-05-09 10:20:00</th>\n",
       "      <td>22200.05</td>\n",
       "      <td>22201.20</td>\n",
       "      <td>22151.60</td>\n",
       "      <td>22151.60</td>\n",
       "      <td>22278.97</td>\n",
       "      <td>-8.401621</td>\n",
       "      <td>-2.351507</td>\n",
       "      <td>0.000000</td>\n",
       "      <td>0.281028</td>\n",
       "    </tr>\n",
       "    <tr>\n",
       "      <th>...</th>\n",
       "      <td>...</td>\n",
       "      <td>...</td>\n",
       "      <td>...</td>\n",
       "      <td>...</td>\n",
       "      <td>...</td>\n",
       "      <td>...</td>\n",
       "      <td>...</td>\n",
       "      <td>...</td>\n",
       "      <td>...</td>\n",
       "    </tr>\n",
       "    <tr>\n",
       "      <th>2024-05-14 15:05:00</th>\n",
       "      <td>22203.55</td>\n",
       "      <td>22223.80</td>\n",
       "      <td>22198.45</td>\n",
       "      <td>22222.45</td>\n",
       "      <td>22272.40</td>\n",
       "      <td>5.157878</td>\n",
       "      <td>12.016691</td>\n",
       "      <td>0.946746</td>\n",
       "      <td>0.570987</td>\n",
       "    </tr>\n",
       "    <tr>\n",
       "      <th>2024-05-14 15:10:00</th>\n",
       "      <td>22222.65</td>\n",
       "      <td>22228.35</td>\n",
       "      <td>22218.70</td>\n",
       "      <td>22222.05</td>\n",
       "      <td>22272.40</td>\n",
       "      <td>3.839232</td>\n",
       "      <td>10.381199</td>\n",
       "      <td>0.347150</td>\n",
       "      <td>0.496375</td>\n",
       "    </tr>\n",
       "    <tr>\n",
       "      <th>2024-05-14 15:15:00</th>\n",
       "      <td>22221.10</td>\n",
       "      <td>22226.95</td>\n",
       "      <td>22217.25</td>\n",
       "      <td>22220.65</td>\n",
       "      <td>22272.40</td>\n",
       "      <td>2.640837</td>\n",
       "      <td>8.833127</td>\n",
       "      <td>0.350515</td>\n",
       "      <td>0.447755</td>\n",
       "    </tr>\n",
       "    <tr>\n",
       "      <th>2024-05-14 15:20:00</th>\n",
       "      <td>22221.20</td>\n",
       "      <td>22225.45</td>\n",
       "      <td>22215.30</td>\n",
       "      <td>22215.55</td>\n",
       "      <td>22269.91</td>\n",
       "      <td>1.235833</td>\n",
       "      <td>7.313668</td>\n",
       "      <td>0.024631</td>\n",
       "      <td>0.306714</td>\n",
       "    </tr>\n",
       "    <tr>\n",
       "      <th>2024-05-14 15:25:00</th>\n",
       "      <td>22216.65</td>\n",
       "      <td>22226.60</td>\n",
       "      <td>22214.30</td>\n",
       "      <td>22223.80</td>\n",
       "      <td>22268.18</td>\n",
       "      <td>0.816126</td>\n",
       "      <td>6.014159</td>\n",
       "      <td>0.772358</td>\n",
       "      <td>0.461928</td>\n",
       "    </tr>\n",
       "  </tbody>\n",
       "</table>\n",
       "<p>291 rows × 9 columns</p>\n",
       "</div>"
      ],
      "text/plain": [
       "                         Open      High       Low     Close  \\\n",
       "Date                                                          \n",
       "2024-05-09 10:00:00  22219.80  22231.35  22209.85  22221.40   \n",
       "2024-05-09 10:05:00  22222.75  22237.15  22219.75  22229.25   \n",
       "2024-05-09 10:10:00  22230.10  22234.85  22188.35  22194.40   \n",
       "2024-05-09 10:15:00  22194.40  22210.25  22184.00  22200.00   \n",
       "2024-05-09 10:20:00  22200.05  22201.20  22151.60  22151.60   \n",
       "...                       ...       ...       ...       ...   \n",
       "2024-05-14 15:05:00  22203.55  22223.80  22198.45  22222.45   \n",
       "2024-05-14 15:10:00  22222.65  22228.35  22218.70  22222.05   \n",
       "2024-05-14 15:15:00  22221.10  22226.95  22217.25  22220.65   \n",
       "2024-05-14 15:20:00  22221.20  22225.45  22215.30  22215.55   \n",
       "2024-05-14 15:25:00  22216.65  22226.60  22214.30  22223.80   \n",
       "\n",
       "                     Trend ‌Supertrend‌ (7,3)      MACD  Signal_MACD  \\\n",
       "Date                                                                   \n",
       "2024-05-09 10:00:00                  22317.55  0.000000     0.000000   \n",
       "2024-05-09 10:05:00                  22317.55  0.666313     0.133263   \n",
       "2024-05-09 10:10:00                  22309.15 -1.773927    -0.248175   \n",
       "2024-05-09 10:15:00                  22291.99 -3.202190    -0.838978   \n",
       "2024-05-09 10:20:00                  22278.97 -8.401621    -2.351507   \n",
       "...                                       ...       ...          ...   \n",
       "2024-05-14 15:05:00                  22272.40  5.157878    12.016691   \n",
       "2024-05-14 15:10:00                  22272.40  3.839232    10.381199   \n",
       "2024-05-14 15:15:00                  22272.40  2.640837     8.833127   \n",
       "2024-05-14 15:20:00                  22269.91  1.235833     7.313668   \n",
       "2024-05-14 15:25:00                  22268.18  0.816126     6.014159   \n",
       "\n",
       "                          IBS  weight_avg  \n",
       "Date                                       \n",
       "2024-05-09 10:00:00  0.537209    0.537209  \n",
       "2024-05-09 10:05:00  0.545977    0.542470  \n",
       "2024-05-09 10:10:00  0.130108    0.347140  \n",
       "2024-05-09 10:15:00  0.609524    0.456130  \n",
       "2024-05-09 10:20:00  0.000000    0.281028  \n",
       "...                       ...         ...  \n",
       "2024-05-14 15:05:00  0.946746    0.570987  \n",
       "2024-05-14 15:10:00  0.347150    0.496375  \n",
       "2024-05-14 15:15:00  0.350515    0.447755  \n",
       "2024-05-14 15:20:00  0.024631    0.306714  \n",
       "2024-05-14 15:25:00  0.772358    0.461928  \n",
       "\n",
       "[291 rows x 9 columns]"
      ]
     },
     "execution_count": 34,
     "metadata": {},
     "output_type": "execute_result"
    }
   ],
   "source": [
    "def macd(data):\n",
    "    data['MACD'] = data['Close'].ewm(span = 12,adjust=False).mean() - data['Close'].ewm(span=28,adjust=False).mean()\n",
    "    data['Signal_MACD'] = data['MACD'].ewm(span = 9,adjust = False).mean()\n",
    "    return data\n",
    "\n",
    "stock = macd(stock)\n",
    "\n",
    "stock ['IBS'] = (stock['Close'] - stock['Low']) /(stock['High'] - stock['Low'])\n",
    "stock['weight_avg'] = stock['IBS'].ewm(span=5,adjust=True).mean()\n",
    "stock"
   ]
  },
  {
   "cell_type": "code",
   "execution_count": 35,
   "metadata": {
    "colab": {
     "base_uri": "https://localhost:8080/",
     "height": 856
    },
    "executionInfo": {
     "elapsed": 24,
     "status": "ok",
     "timestamp": 1718048581702,
     "user": {
      "displayName": "aman sanwal",
      "userId": "08675761592837002016"
     },
     "user_tz": -330
    },
    "id": "2cS_b68UPRGE",
    "outputId": "959c7f6e-ef01-49db-cdba-30dce16de377"
   },
   "outputs": [
    {
     "data": {
      "text/html": [
       "<div>\n",
       "<style scoped>\n",
       "    .dataframe tbody tr th:only-of-type {\n",
       "        vertical-align: middle;\n",
       "    }\n",
       "\n",
       "    .dataframe tbody tr th {\n",
       "        vertical-align: top;\n",
       "    }\n",
       "\n",
       "    .dataframe thead th {\n",
       "        text-align: right;\n",
       "    }\n",
       "</style>\n",
       "<table border=\"1\" class=\"dataframe\">\n",
       "  <thead>\n",
       "    <tr style=\"text-align: right;\">\n",
       "      <th></th>\n",
       "      <th>Open</th>\n",
       "      <th>High</th>\n",
       "      <th>Low</th>\n",
       "      <th>Close</th>\n",
       "      <th>Trend ‌Supertrend‌ (7,3)</th>\n",
       "      <th>MACD</th>\n",
       "      <th>Signal_MACD</th>\n",
       "      <th>IBS</th>\n",
       "      <th>weight_avg</th>\n",
       "      <th>signals</th>\n",
       "    </tr>\n",
       "    <tr>\n",
       "      <th>Date</th>\n",
       "      <th></th>\n",
       "      <th></th>\n",
       "      <th></th>\n",
       "      <th></th>\n",
       "      <th></th>\n",
       "      <th></th>\n",
       "      <th></th>\n",
       "      <th></th>\n",
       "      <th></th>\n",
       "      <th></th>\n",
       "    </tr>\n",
       "  </thead>\n",
       "  <tbody>\n",
       "    <tr>\n",
       "      <th>2024-05-09 10:00:00</th>\n",
       "      <td>22219.80</td>\n",
       "      <td>22231.35</td>\n",
       "      <td>22209.85</td>\n",
       "      <td>22221.40</td>\n",
       "      <td>22317.55</td>\n",
       "      <td>0.000000</td>\n",
       "      <td>0.000000</td>\n",
       "      <td>0.537209</td>\n",
       "      <td>0.537209</td>\n",
       "      <td>0</td>\n",
       "    </tr>\n",
       "    <tr>\n",
       "      <th>2024-05-09 10:05:00</th>\n",
       "      <td>22222.75</td>\n",
       "      <td>22237.15</td>\n",
       "      <td>22219.75</td>\n",
       "      <td>22229.25</td>\n",
       "      <td>22317.55</td>\n",
       "      <td>0.666313</td>\n",
       "      <td>0.133263</td>\n",
       "      <td>0.545977</td>\n",
       "      <td>0.542470</td>\n",
       "      <td>0</td>\n",
       "    </tr>\n",
       "    <tr>\n",
       "      <th>2024-05-09 10:10:00</th>\n",
       "      <td>22230.10</td>\n",
       "      <td>22234.85</td>\n",
       "      <td>22188.35</td>\n",
       "      <td>22194.40</td>\n",
       "      <td>22309.15</td>\n",
       "      <td>-1.773927</td>\n",
       "      <td>-0.248175</td>\n",
       "      <td>0.130108</td>\n",
       "      <td>0.347140</td>\n",
       "      <td>0</td>\n",
       "    </tr>\n",
       "    <tr>\n",
       "      <th>2024-05-09 10:15:00</th>\n",
       "      <td>22194.40</td>\n",
       "      <td>22210.25</td>\n",
       "      <td>22184.00</td>\n",
       "      <td>22200.00</td>\n",
       "      <td>22291.99</td>\n",
       "      <td>-3.202190</td>\n",
       "      <td>-0.838978</td>\n",
       "      <td>0.609524</td>\n",
       "      <td>0.456130</td>\n",
       "      <td>0</td>\n",
       "    </tr>\n",
       "    <tr>\n",
       "      <th>2024-05-09 10:20:00</th>\n",
       "      <td>22200.05</td>\n",
       "      <td>22201.20</td>\n",
       "      <td>22151.60</td>\n",
       "      <td>22151.60</td>\n",
       "      <td>22278.97</td>\n",
       "      <td>-8.401621</td>\n",
       "      <td>-2.351507</td>\n",
       "      <td>0.000000</td>\n",
       "      <td>0.281028</td>\n",
       "      <td>0</td>\n",
       "    </tr>\n",
       "    <tr>\n",
       "      <th>...</th>\n",
       "      <td>...</td>\n",
       "      <td>...</td>\n",
       "      <td>...</td>\n",
       "      <td>...</td>\n",
       "      <td>...</td>\n",
       "      <td>...</td>\n",
       "      <td>...</td>\n",
       "      <td>...</td>\n",
       "      <td>...</td>\n",
       "      <td>...</td>\n",
       "    </tr>\n",
       "    <tr>\n",
       "      <th>2024-05-14 15:05:00</th>\n",
       "      <td>22203.55</td>\n",
       "      <td>22223.80</td>\n",
       "      <td>22198.45</td>\n",
       "      <td>22222.45</td>\n",
       "      <td>22272.40</td>\n",
       "      <td>5.157878</td>\n",
       "      <td>12.016691</td>\n",
       "      <td>0.946746</td>\n",
       "      <td>0.570987</td>\n",
       "      <td>0</td>\n",
       "    </tr>\n",
       "    <tr>\n",
       "      <th>2024-05-14 15:10:00</th>\n",
       "      <td>22222.65</td>\n",
       "      <td>22228.35</td>\n",
       "      <td>22218.70</td>\n",
       "      <td>22222.05</td>\n",
       "      <td>22272.40</td>\n",
       "      <td>3.839232</td>\n",
       "      <td>10.381199</td>\n",
       "      <td>0.347150</td>\n",
       "      <td>0.496375</td>\n",
       "      <td>0</td>\n",
       "    </tr>\n",
       "    <tr>\n",
       "      <th>2024-05-14 15:15:00</th>\n",
       "      <td>22221.10</td>\n",
       "      <td>22226.95</td>\n",
       "      <td>22217.25</td>\n",
       "      <td>22220.65</td>\n",
       "      <td>22272.40</td>\n",
       "      <td>2.640837</td>\n",
       "      <td>8.833127</td>\n",
       "      <td>0.350515</td>\n",
       "      <td>0.447755</td>\n",
       "      <td>0</td>\n",
       "    </tr>\n",
       "    <tr>\n",
       "      <th>2024-05-14 15:20:00</th>\n",
       "      <td>22221.20</td>\n",
       "      <td>22225.45</td>\n",
       "      <td>22215.30</td>\n",
       "      <td>22215.55</td>\n",
       "      <td>22269.91</td>\n",
       "      <td>1.235833</td>\n",
       "      <td>7.313668</td>\n",
       "      <td>0.024631</td>\n",
       "      <td>0.306714</td>\n",
       "      <td>0</td>\n",
       "    </tr>\n",
       "    <tr>\n",
       "      <th>2024-05-14 15:25:00</th>\n",
       "      <td>22216.65</td>\n",
       "      <td>22226.60</td>\n",
       "      <td>22214.30</td>\n",
       "      <td>22223.80</td>\n",
       "      <td>22268.18</td>\n",
       "      <td>0.816126</td>\n",
       "      <td>6.014159</td>\n",
       "      <td>0.772358</td>\n",
       "      <td>0.461928</td>\n",
       "      <td>0</td>\n",
       "    </tr>\n",
       "  </tbody>\n",
       "</table>\n",
       "<p>291 rows × 10 columns</p>\n",
       "</div>"
      ],
      "text/plain": [
       "                         Open      High       Low     Close  \\\n",
       "Date                                                          \n",
       "2024-05-09 10:00:00  22219.80  22231.35  22209.85  22221.40   \n",
       "2024-05-09 10:05:00  22222.75  22237.15  22219.75  22229.25   \n",
       "2024-05-09 10:10:00  22230.10  22234.85  22188.35  22194.40   \n",
       "2024-05-09 10:15:00  22194.40  22210.25  22184.00  22200.00   \n",
       "2024-05-09 10:20:00  22200.05  22201.20  22151.60  22151.60   \n",
       "...                       ...       ...       ...       ...   \n",
       "2024-05-14 15:05:00  22203.55  22223.80  22198.45  22222.45   \n",
       "2024-05-14 15:10:00  22222.65  22228.35  22218.70  22222.05   \n",
       "2024-05-14 15:15:00  22221.10  22226.95  22217.25  22220.65   \n",
       "2024-05-14 15:20:00  22221.20  22225.45  22215.30  22215.55   \n",
       "2024-05-14 15:25:00  22216.65  22226.60  22214.30  22223.80   \n",
       "\n",
       "                     Trend ‌Supertrend‌ (7,3)      MACD  Signal_MACD  \\\n",
       "Date                                                                   \n",
       "2024-05-09 10:00:00                  22317.55  0.000000     0.000000   \n",
       "2024-05-09 10:05:00                  22317.55  0.666313     0.133263   \n",
       "2024-05-09 10:10:00                  22309.15 -1.773927    -0.248175   \n",
       "2024-05-09 10:15:00                  22291.99 -3.202190    -0.838978   \n",
       "2024-05-09 10:20:00                  22278.97 -8.401621    -2.351507   \n",
       "...                                       ...       ...          ...   \n",
       "2024-05-14 15:05:00                  22272.40  5.157878    12.016691   \n",
       "2024-05-14 15:10:00                  22272.40  3.839232    10.381199   \n",
       "2024-05-14 15:15:00                  22272.40  2.640837     8.833127   \n",
       "2024-05-14 15:20:00                  22269.91  1.235833     7.313668   \n",
       "2024-05-14 15:25:00                  22268.18  0.816126     6.014159   \n",
       "\n",
       "                          IBS  weight_avg  signals  \n",
       "Date                                                \n",
       "2024-05-09 10:00:00  0.537209    0.537209        0  \n",
       "2024-05-09 10:05:00  0.545977    0.542470        0  \n",
       "2024-05-09 10:10:00  0.130108    0.347140        0  \n",
       "2024-05-09 10:15:00  0.609524    0.456130        0  \n",
       "2024-05-09 10:20:00  0.000000    0.281028        0  \n",
       "...                       ...         ...      ...  \n",
       "2024-05-14 15:05:00  0.946746    0.570987        0  \n",
       "2024-05-14 15:10:00  0.347150    0.496375        0  \n",
       "2024-05-14 15:15:00  0.350515    0.447755        0  \n",
       "2024-05-14 15:20:00  0.024631    0.306714        0  \n",
       "2024-05-14 15:25:00  0.772358    0.461928        0  \n",
       "\n",
       "[291 rows x 10 columns]"
      ]
     },
     "execution_count": 35,
     "metadata": {},
     "output_type": "execute_result"
    }
   ],
   "source": [
    "stock['signals'] = 0\n",
    "for i in range(1,len(stock)):\n",
    "    if(stock['weight_avg'][i-1]>0.7 and (stock.MACD[i] > stock.Signal_MACD[i])):\n",
    "        stock.signals[i] = 1\n",
    "    elif(stock['weight_avg'][i-1]<0.3 and (stock.MACD[i] < stock.Signal_MACD[i])):\n",
    "        stock.signals[i] = -1\n",
    "\n",
    "stock"
   ]
  },
  {
   "cell_type": "code",
   "execution_count": 36,
   "metadata": {
    "colab": {
     "base_uri": "https://localhost:8080/"
    },
    "executionInfo": {
     "elapsed": 23,
     "status": "ok",
     "timestamp": 1718048581702,
     "user": {
      "displayName": "aman sanwal",
      "userId": "08675761592837002016"
     },
     "user_tz": -330
    },
    "id": "MEc88J3BKf6y",
    "outputId": "f52238ce-f23a-4651-edbc-758f78bfb3f1"
   },
   "outputs": [
    {
     "data": {
      "text/plain": [
       "10"
      ]
     },
     "execution_count": 36,
     "metadata": {},
     "output_type": "execute_result"
    }
   ],
   "source": [
    "len(call_data)"
   ]
  },
  {
   "cell_type": "code",
   "execution_count": 95,
   "metadata": {},
   "outputs": [
    {
     "data": {
      "text/html": [
       "<div>\n",
       "<style scoped>\n",
       "    .dataframe tbody tr th:only-of-type {\n",
       "        vertical-align: middle;\n",
       "    }\n",
       "\n",
       "    .dataframe tbody tr th {\n",
       "        vertical-align: top;\n",
       "    }\n",
       "\n",
       "    .dataframe thead th {\n",
       "        text-align: right;\n",
       "    }\n",
       "</style>\n",
       "<table border=\"1\" class=\"dataframe\">\n",
       "  <thead>\n",
       "    <tr style=\"text-align: right;\">\n",
       "      <th></th>\n",
       "      <th>Open</th>\n",
       "      <th>High</th>\n",
       "      <th>Low</th>\n",
       "      <th>Close</th>\n",
       "      <th>Volume</th>\n",
       "      <th>OI</th>\n",
       "      <th>Trend ‌Supertrend‌ (7,3)</th>\n",
       "      <th>spot</th>\n",
       "      <th>T</th>\n",
       "      <th>iv</th>\n",
       "      <th>IVper</th>\n",
       "      <th>vega</th>\n",
       "    </tr>\n",
       "    <tr>\n",
       "      <th>Date</th>\n",
       "      <th></th>\n",
       "      <th></th>\n",
       "      <th></th>\n",
       "      <th></th>\n",
       "      <th></th>\n",
       "      <th></th>\n",
       "      <th></th>\n",
       "      <th></th>\n",
       "      <th></th>\n",
       "      <th></th>\n",
       "      <th></th>\n",
       "      <th></th>\n",
       "    </tr>\n",
       "  </thead>\n",
       "  <tbody>\n",
       "    <tr>\n",
       "      <th>2024-05-09 10:00:00</th>\n",
       "      <td>457.00</td>\n",
       "      <td>457.00</td>\n",
       "      <td>445.35</td>\n",
       "      <td>445.35</td>\n",
       "      <td>175.0</td>\n",
       "      <td>5375.0</td>\n",
       "      <td>489.90</td>\n",
       "      <td>22221.40</td>\n",
       "      <td>0.019165</td>\n",
       "      <td>0.350836</td>\n",
       "      <td>0.000000</td>\n",
       "      <td>12.250565</td>\n",
       "    </tr>\n",
       "    <tr>\n",
       "      <th>2024-05-09 10:05:00</th>\n",
       "      <td>445.35</td>\n",
       "      <td>459.35</td>\n",
       "      <td>445.35</td>\n",
       "      <td>459.35</td>\n",
       "      <td>100.0</td>\n",
       "      <td>5475.0</td>\n",
       "      <td>489.90</td>\n",
       "      <td>22229.25</td>\n",
       "      <td>0.016427</td>\n",
       "      <td>0.388222</td>\n",
       "      <td>100.000000</td>\n",
       "      <td>11.342550</td>\n",
       "    </tr>\n",
       "    <tr>\n",
       "      <th>2024-05-09 10:10:00</th>\n",
       "      <td>459.35</td>\n",
       "      <td>459.35</td>\n",
       "      <td>431.00</td>\n",
       "      <td>434.00</td>\n",
       "      <td>450.0</td>\n",
       "      <td>5675.0</td>\n",
       "      <td>489.90</td>\n",
       "      <td>22194.40</td>\n",
       "      <td>0.016427</td>\n",
       "      <td>0.381735</td>\n",
       "      <td>50.000000</td>\n",
       "      <td>11.342304</td>\n",
       "    </tr>\n",
       "    <tr>\n",
       "      <th>2024-05-09 10:15:00</th>\n",
       "      <td>434.00</td>\n",
       "      <td>439.05</td>\n",
       "      <td>432.55</td>\n",
       "      <td>439.05</td>\n",
       "      <td>200.0</td>\n",
       "      <td>6025.0</td>\n",
       "      <td>477.79</td>\n",
       "      <td>22200.00</td>\n",
       "      <td>0.016427</td>\n",
       "      <td>0.383663</td>\n",
       "      <td>66.666667</td>\n",
       "      <td>11.343076</td>\n",
       "    </tr>\n",
       "    <tr>\n",
       "      <th>2024-05-09 10:20:00</th>\n",
       "      <td>439.05</td>\n",
       "      <td>439.05</td>\n",
       "      <td>394.50</td>\n",
       "      <td>394.50</td>\n",
       "      <td>2500.0</td>\n",
       "      <td>8025.0</td>\n",
       "      <td>471.86</td>\n",
       "      <td>22151.60</td>\n",
       "      <td>0.016427</td>\n",
       "      <td>0.365864</td>\n",
       "      <td>25.000000</td>\n",
       "      <td>11.326031</td>\n",
       "    </tr>\n",
       "    <tr>\n",
       "      <th>...</th>\n",
       "      <td>...</td>\n",
       "      <td>...</td>\n",
       "      <td>...</td>\n",
       "      <td>...</td>\n",
       "      <td>...</td>\n",
       "      <td>...</td>\n",
       "      <td>...</td>\n",
       "      <td>...</td>\n",
       "      <td>...</td>\n",
       "      <td>...</td>\n",
       "      <td>...</td>\n",
       "      <td>...</td>\n",
       "    </tr>\n",
       "    <tr>\n",
       "      <th>2024-05-14 15:05:00</th>\n",
       "      <td>371.00</td>\n",
       "      <td>398.00</td>\n",
       "      <td>371.00</td>\n",
       "      <td>398.00</td>\n",
       "      <td>2350.0</td>\n",
       "      <td>302900.0</td>\n",
       "      <td>447.55</td>\n",
       "      <td>22222.45</td>\n",
       "      <td>0.002738</td>\n",
       "      <td>0.833470</td>\n",
       "      <td>74.285714</td>\n",
       "      <td>4.633585</td>\n",
       "    </tr>\n",
       "    <tr>\n",
       "      <th>2024-05-14 15:10:00</th>\n",
       "      <td>398.00</td>\n",
       "      <td>403.60</td>\n",
       "      <td>395.00</td>\n",
       "      <td>398.20</td>\n",
       "      <td>2900.0</td>\n",
       "      <td>302425.0</td>\n",
       "      <td>447.55</td>\n",
       "      <td>22222.05</td>\n",
       "      <td>0.002738</td>\n",
       "      <td>0.834324</td>\n",
       "      <td>74.647887</td>\n",
       "      <td>4.633592</td>\n",
       "    </tr>\n",
       "    <tr>\n",
       "      <th>2024-05-14 15:15:00</th>\n",
       "      <td>398.20</td>\n",
       "      <td>398.75</td>\n",
       "      <td>394.80</td>\n",
       "      <td>397.50</td>\n",
       "      <td>1025.0</td>\n",
       "      <td>302450.0</td>\n",
       "      <td>447.55</td>\n",
       "      <td>22220.65</td>\n",
       "      <td>0.002738</td>\n",
       "      <td>0.834289</td>\n",
       "      <td>73.611111</td>\n",
       "      <td>4.633610</td>\n",
       "    </tr>\n",
       "    <tr>\n",
       "      <th>2024-05-14 15:20:00</th>\n",
       "      <td>397.50</td>\n",
       "      <td>398.80</td>\n",
       "      <td>390.00</td>\n",
       "      <td>391.90</td>\n",
       "      <td>1300.0</td>\n",
       "      <td>302325.0</td>\n",
       "      <td>442.45</td>\n",
       "      <td>22215.55</td>\n",
       "      <td>0.002738</td>\n",
       "      <td>0.827608</td>\n",
       "      <td>67.123288</td>\n",
       "      <td>4.633599</td>\n",
       "    </tr>\n",
       "    <tr>\n",
       "      <th>2024-05-14 15:25:00</th>\n",
       "      <td>391.90</td>\n",
       "      <td>397.55</td>\n",
       "      <td>390.35</td>\n",
       "      <td>394.50</td>\n",
       "      <td>11850.0</td>\n",
       "      <td>301075.0</td>\n",
       "      <td>438.22</td>\n",
       "      <td>22223.80</td>\n",
       "      <td>0.002738</td>\n",
       "      <td>0.824479</td>\n",
       "      <td>63.513514</td>\n",
       "      <td>4.633541</td>\n",
       "    </tr>\n",
       "  </tbody>\n",
       "</table>\n",
       "<p>291 rows × 12 columns</p>\n",
       "</div>"
      ],
      "text/plain": [
       "                       Open    High     Low   Close   Volume        OI  \\\n",
       "Date                                                                     \n",
       "2024-05-09 10:00:00  457.00  457.00  445.35  445.35    175.0    5375.0   \n",
       "2024-05-09 10:05:00  445.35  459.35  445.35  459.35    100.0    5475.0   \n",
       "2024-05-09 10:10:00  459.35  459.35  431.00  434.00    450.0    5675.0   \n",
       "2024-05-09 10:15:00  434.00  439.05  432.55  439.05    200.0    6025.0   \n",
       "2024-05-09 10:20:00  439.05  439.05  394.50  394.50   2500.0    8025.0   \n",
       "...                     ...     ...     ...     ...      ...       ...   \n",
       "2024-05-14 15:05:00  371.00  398.00  371.00  398.00   2350.0  302900.0   \n",
       "2024-05-14 15:10:00  398.00  403.60  395.00  398.20   2900.0  302425.0   \n",
       "2024-05-14 15:15:00  398.20  398.75  394.80  397.50   1025.0  302450.0   \n",
       "2024-05-14 15:20:00  397.50  398.80  390.00  391.90   1300.0  302325.0   \n",
       "2024-05-14 15:25:00  391.90  397.55  390.35  394.50  11850.0  301075.0   \n",
       "\n",
       "                     Trend ‌Supertrend‌ (7,3)      spot         T        iv  \\\n",
       "Date                                                                          \n",
       "2024-05-09 10:00:00                    489.90  22221.40  0.019165  0.350836   \n",
       "2024-05-09 10:05:00                    489.90  22229.25  0.016427  0.388222   \n",
       "2024-05-09 10:10:00                    489.90  22194.40  0.016427  0.381735   \n",
       "2024-05-09 10:15:00                    477.79  22200.00  0.016427  0.383663   \n",
       "2024-05-09 10:20:00                    471.86  22151.60  0.016427  0.365864   \n",
       "...                                       ...       ...       ...       ...   \n",
       "2024-05-14 15:05:00                    447.55  22222.45  0.002738  0.833470   \n",
       "2024-05-14 15:10:00                    447.55  22222.05  0.002738  0.834324   \n",
       "2024-05-14 15:15:00                    447.55  22220.65  0.002738  0.834289   \n",
       "2024-05-14 15:20:00                    442.45  22215.55  0.002738  0.827608   \n",
       "2024-05-14 15:25:00                    438.22  22223.80  0.002738  0.824479   \n",
       "\n",
       "                          IVper       vega  \n",
       "Date                                        \n",
       "2024-05-09 10:00:00    0.000000  12.250565  \n",
       "2024-05-09 10:05:00  100.000000  11.342550  \n",
       "2024-05-09 10:10:00   50.000000  11.342304  \n",
       "2024-05-09 10:15:00   66.666667  11.343076  \n",
       "2024-05-09 10:20:00   25.000000  11.326031  \n",
       "...                         ...        ...  \n",
       "2024-05-14 15:05:00   74.285714   4.633585  \n",
       "2024-05-14 15:10:00   74.647887   4.633592  \n",
       "2024-05-14 15:15:00   73.611111   4.633610  \n",
       "2024-05-14 15:20:00   67.123288   4.633599  \n",
       "2024-05-14 15:25:00   63.513514   4.633541  \n",
       "\n",
       "[291 rows x 12 columns]"
      ]
     },
     "execution_count": 95,
     "metadata": {},
     "output_type": "execute_result"
    }
   ],
   "source": [
    "call_data[0]"
   ]
  },
  {
   "cell_type": "markdown",
   "metadata": {},
   "source": [
    "## IMPLIED VOLATILITY GRAPHS "
   ]
  },
  {
   "cell_type": "code",
   "execution_count": 99,
   "metadata": {
    "colab": {
     "base_uri": "https://localhost:8080/",
     "height": 447
    },
    "executionInfo": {
     "elapsed": 2990,
     "status": "ok",
     "timestamp": 1718048584671,
     "user": {
      "displayName": "aman sanwal",
      "userId": "08675761592837002016"
     },
     "user_tz": -330
    },
    "id": "xPmLxkcaKf6z",
    "outputId": "ac5e2247-fa53-47ed-fc87-317c720cb61f"
   },
   "outputs": [
    {
     "data": {
      "image/png": "[encoded data removed]",
      "text/plain": [
       "<Figure size 1000x800 with 10 Axes>"
      ]
     },
     "metadata": {},
     "output_type": "display_data"
    }
   ],
   "source": [
    "fig, axs = plt.subplots(5, 2, figsize=(10, 8))\n",
    "counter=0\n",
    "# Looping through each subplot and plotting data\n",
    "for i in range(5):\n",
    "    for j in range(2):\n",
    "        ax = axs[i, j]\n",
    "        ax.plot(call_data[counter].index.values, call_data[counter]['IVper'],c='r')\n",
    "        ax.plot(put_data[counter].index.values, put_data[counter]['IVper'],c='b')\n",
    "        ax.set_title(f'Plot {counter}')\n",
    "        #ax.grid(True)\n",
    "        counter+=1\n",
    "\n",
    "plt.tight_layout()\n",
    "plt.show()"
   ]
  },
  {
   "cell_type": "markdown",
   "metadata": {},
   "source": [
    "## OPTIONS STRATEGIES"
   ]
  },
  {
   "cell_type": "code",
   "execution_count": 39,
   "metadata": {
    "executionInfo": {
     "elapsed": 15,
     "status": "ok",
     "timestamp": 1718048584672,
     "user": {
      "displayName": "aman sanwal",
      "userId": "08675761592837002016"
     },
     "user_tz": -330
    },
    "id": "7kCRa_VTKf6z"
   },
   "outputs": [],
   "source": [
    "day_wise=[(0,66),(66,141),(141,216),(216,291)]"
   ]
  },
  {
   "cell_type": "code",
   "execution_count": 40,
   "metadata": {
    "executionInfo": {
     "elapsed": 14,
     "status": "ok",
     "timestamp": 1718048584672,
     "user": {
      "displayName": "aman sanwal",
      "userId": "08675761592837002016"
     },
     "user_tz": -330
    },
    "id": "6OMzwdg6Kf6z"
   },
   "outputs": [],
   "source": [
    "def long_straddle(data,start,day_end, sl=0.2, tp=0.4,):\n",
    "    profit=0\n",
    "    buy=0\n",
    "    sell=0\n",
    "    i = start\n",
    "    flag=0#START FLAG\n",
    "    option_strike = round(stock['Close'].iloc[i]/50)*50\n",
    "    df_call = pd.read_csv(f\"./NIFTY 16th MAY {option_strike} CE.csv\")\n",
    "    df_put = pd.read_csv(f\"./NIFTY 16th MAY {option_strike} PE.csv\")\n",
    "    while (i < day_end):\n",
    "        if(flag==0):\n",
    "            buy=df_call['Close'].iloc[i]+df_put['Close'].iloc[i]\n",
    "            take_p=(1+tp)*buy\n",
    "            stop_l=(1-sl)*buy\n",
    "            flag=1#ACTIVE TRADE\n",
    "        elif(flag==1):\n",
    "            latest_close = df_call['Close'].iloc[i]+df_put['Close'].iloc[i]\n",
    "            if(latest_close >take_p):\n",
    "                sell=latest_close\n",
    "                flag=-1#Trade Closed\n",
    "                profit=sell-buy\n",
    "                break\n",
    "            elif(latest_close <stop_l):\n",
    "                sell=latest_close\n",
    "                flag=-1\n",
    "                profit=sell-buy\n",
    "                break\n",
    "\n",
    "        i+=1\n",
    "    if(flag==1):\n",
    "        sell=df_call['Close'].iloc[i]+df_put['Close'].iloc[i]\n",
    "        profit=sell-buy\n",
    "    return profit"
   ]
  },
  {
   "cell_type": "code",
   "execution_count": 41,
   "metadata": {
    "executionInfo": {
     "elapsed": 14,
     "status": "ok",
     "timestamp": 1718048584672,
     "user": {
      "displayName": "aman sanwal",
      "userId": "08675761592837002016"
     },
     "user_tz": -330
    },
    "id": "xOMkQ_FsYbxW"
   },
   "outputs": [],
   "source": [
    "def short_straddle(data,start,day_end, sl=0.2, tp=0.4,):\n",
    "    profit=0\n",
    "    buy=0\n",
    "    sell=0\n",
    "    i = start\n",
    "    flag=0     #START FLAG\n",
    "    option_strike = round(stock['Close'].iloc[i]/50)*50\n",
    "    df_call = pd.read_csv(f\"./NIFTY 16th MAY {option_strike} CE.csv\")\n",
    "    df_put = pd.read_csv(f\"./NIFTY 16th MAY {option_strike} PE.csv\")\n",
    "    while (i < day_end):\n",
    "        if(flag==0):\n",
    "            buy=df_call['Close'].iloc[i]+df_put['Close'].iloc[i]\n",
    "            take_p=(1-tp)*buy\n",
    "            stop_l=(1+sl)*buy\n",
    "            flag=1#ACTIVE TRADE\n",
    "        elif(flag==1):\n",
    "            latest_close = df_call['Close'].iloc[i]+df_put['Close'].iloc[i]\n",
    "            if(latest_close <take_p):\n",
    "                sell=latest_close\n",
    "                flag=-1#Trade Closed\n",
    "                profit=buy-sell\n",
    "                break\n",
    "            elif(latest_close >stop_l):\n",
    "                sell=latest_close\n",
    "                flag=-1\n",
    "                profit=buy-sell\n",
    "                break\n",
    "\n",
    "        i+=1\n",
    "    if(flag==1):\n",
    "        sell=df_call['Close'].iloc[i]+df_put['Close'].iloc[i]\n",
    "        profit=buy-sell\n",
    "    return profit"
   ]
  },
  {
   "cell_type": "code",
   "execution_count": 48,
   "metadata": {
    "executionInfo": {
     "elapsed": 14,
     "status": "ok",
     "timestamp": 1718048584672,
     "user": {
      "displayName": "aman sanwal",
      "userId": "08675761592837002016"
     },
     "user_tz": -330
    },
    "id": "_KTPDkk4blDD"
   },
   "outputs": [],
   "source": [
    "def long_strangle(data,start,day_end, sl=0.2, tp=0.4,):\n",
    "    profit=0\n",
    "    buy=0\n",
    "    sell=0\n",
    "    i = start\n",
    "    flag=0#START FLAG\n",
    "\n",
    "    option_strike_call = math.ceil(stock['Close'].iloc[i]/50)*50\n",
    "    if(option_strike_call>22300 or option_strike_call<21850):\n",
    "      return\n",
    "    df_call = pd.read_csv(f\"./NIFTY 16th MAY {option_strike_call} CE.csv\")\n",
    "    option_strike_put = math.floor(stock['Close'].iloc[i]/50)*50\n",
    "    if(option_strike_put>22300 or option_strike_put<21850):\n",
    "      return\n",
    "    df_put = pd.read_csv(f\"./NIFTY 16th MAY {option_strike_put} PE.csv\")\n",
    "\n",
    "    while (i < day_end):\n",
    "        if(flag==0):\n",
    "            buy=df_call['Close'].iloc[i]+df_put['Close'].iloc[i]\n",
    "            take_p=(1+tp)*buy\n",
    "            stop_l=(1-sl)*buy\n",
    "            flag=1  #ACTIVE TRADE\n",
    "        elif(flag==1):\n",
    "            latest_close = df_call['Close'].iloc[i]+df_put['Close'].iloc[i]\n",
    "            if(latest_close >take_p):\n",
    "                sell=latest_close\n",
    "                flag=-1#Trade Closed\n",
    "                profit=sell-buy\n",
    "                break\n",
    "            elif(latest_close <stop_l):\n",
    "                sell=latest_close\n",
    "                flag=-1\n",
    "                profit=sell-buy\n",
    "                break\n",
    "\n",
    "        i+=1\n",
    "    if(flag==1):\n",
    "        sell=df_call['Close'].iloc[i]+df_put['Close'].iloc[i]\n",
    "        profit=sell-buy\n",
    "    return profit"
   ]
  },
  {
   "cell_type": "code",
   "execution_count": 49,
   "metadata": {
    "executionInfo": {
     "elapsed": 14,
     "status": "ok",
     "timestamp": 1718048584672,
     "user": {
      "displayName": "aman sanwal",
      "userId": "08675761592837002016"
     },
     "user_tz": -330
    },
    "id": "HkclJLOUQt0m"
   },
   "outputs": [],
   "source": [
    "def short_strangle(data,start,day_end, sl=0.2, tp=0.4):\n",
    "    profit=0\n",
    "    buy=0\n",
    "    sell=0\n",
    "    i = start\n",
    "    flag=0      #START FLAG\n",
    "\n",
    "    option_strike_call = math.ceil(stock['Close'].iloc[i]/50)*50\n",
    "    if(option_strike_call>22300 or option_strike_call<21850):\n",
    "      return\n",
    "    df_call = pd.read_csv(f\"./NIFTY 16th MAY {option_strike_call} CE.csv\")\n",
    "    option_strike_put = math.floor(stock['Close'].iloc[i]/50)*50\n",
    "    if(option_strike_put>22300 or option_strike_put<21850):\n",
    "      return\n",
    "    df_put = pd.read_csv(f\"./NIFTY 16th MAY {option_strike_put} PE.csv\")\n",
    "\n",
    "    while (i < day_end):\n",
    "        if(flag==0):\n",
    "            buy=df_call['Close'].iloc[i]+df_put['Close'].iloc[i]\n",
    "            take_p=(1-tp)*buy\n",
    "            stop_l=(1+sl)*buy\n",
    "            flag=1  #ACTIVE TRADE\n",
    "        elif(flag==1):\n",
    "            latest_close = df_call['Close'].iloc[i]+df_put['Close'].iloc[i]\n",
    "            if(latest_close <take_p):\n",
    "                sell=latest_close\n",
    "                flag=-1#Trade Closed\n",
    "                profit=buy-sell\n",
    "                break\n",
    "            elif(latest_close >stop_l):\n",
    "                sell=latest_close\n",
    "                flag=-1\n",
    "                profit=buy-sell\n",
    "                break\n",
    "\n",
    "        i+=1\n",
    "    if(flag==1):\n",
    "        sell=df_call['Close'].iloc[i]+df_put['Close'].iloc[i]\n",
    "        profit=buy-sell\n",
    "    return profit"
   ]
  },
  {
   "cell_type": "code",
   "execution_count": 50,
   "metadata": {
    "executionInfo": {
     "elapsed": 13,
     "status": "ok",
     "timestamp": 1718048584672,
     "user": {
      "displayName": "aman sanwal",
      "userId": "08675761592837002016"
     },
     "user_tz": -330
    },
    "id": "7_HvHn8XfTfP"
   },
   "outputs": [],
   "source": [
    "#use when slightly bullish market\n",
    "def ratio_spread_call(data,start,day_end, sl=0.4, tp=0.2):\n",
    "    profit=0\n",
    "    buy=0\n",
    "    sell=0\n",
    "    i = start\n",
    "    flag=0#START FLAG\n",
    "\n",
    "    option_strike_long = math.ceil(stock['Close'].iloc[i]/50)*50\n",
    "    if(option_strike_long>22300 or option_strike_long<21850):\n",
    "      return\n",
    "    df_long = pd.read_csv(f\"./NIFTY 16th MAY {option_strike_long} CE.csv\")\n",
    "    option_strike_short = math.ceil(stock['Close'].iloc[i]/50)*50 + 50\n",
    "    if(option_strike_short>22300 or option_strike_short<21850):\n",
    "      return\n",
    "    df_short = pd.read_csv(f\"./NIFTY 16th MAY {option_strike_short} CE.csv\")\n",
    "\n",
    "    while (i < day_end):\n",
    "        if(flag==0):\n",
    "            buy= -df_long['Close'].iloc[i] + 2*df_short['Close'].iloc[i]\n",
    "            take_p=(1-tp)*buy\n",
    "            stop_l=(1+sl)*buy\n",
    "            flag=1  #ACTIVE TRADE\n",
    "        elif(flag==1):\n",
    "            latest_close = -df_long['Close'].iloc[i]+2*df_short['Close'].iloc[i]\n",
    "            if(latest_close <take_p):\n",
    "                sell=latest_close\n",
    "                flag=-1#Trade Closed\n",
    "                profit=buy-sell\n",
    "                break\n",
    "            elif(latest_close > stop_l):\n",
    "                sell = latest_close\n",
    "                flag=-1\n",
    "                profit=buy-sell\n",
    "                break\n",
    "\n",
    "        i+=1\n",
    "    if(flag==1):\n",
    "        sell= -df_long['Close'].iloc[i] + 2*df_short['Close'].iloc[i]\n",
    "        profit=buy-sell\n",
    "    return profit"
   ]
  },
  {
   "cell_type": "code",
   "execution_count": 51,
   "metadata": {
    "executionInfo": {
     "elapsed": 13,
     "status": "ok",
     "timestamp": 1718048584672,
     "user": {
      "displayName": "aman sanwal",
      "userId": "08675761592837002016"
     },
     "user_tz": -330
    },
    "id": "Ud_uE7mkohHf"
   },
   "outputs": [],
   "source": [
    "#use when slightly bearish market\n",
    "def ratio_spread_put(data,start,day_end, sl=0.4, tp=0.2):\n",
    "    profit=0\n",
    "    buy=0\n",
    "    sell=0\n",
    "    i = start\n",
    "    flag=0#START FLAG\n",
    "\n",
    "    option_strike_long = math.floor(stock['Close'].iloc[i]/50)*50\n",
    "    if(option_strike_long>22300 or option_strike_long<21850):\n",
    "      return\n",
    "    df_long = pd.read_csv(f\"./NIFTY 16th MAY {option_strike_long} PE.csv\")\n",
    "    option_strike_short = math.floor(stock['Close'].iloc[i]/50)*50 - 50\n",
    "    if(option_strike_short>22300 or option_strike_short<21850):\n",
    "      return\n",
    "    df_short = pd.read_csv(f\"./NIFTY 16th MAY {option_strike_short} PE.csv\")\n",
    "\n",
    "    while (i < day_end):\n",
    "        if(flag==0):\n",
    "            buy= -df_long['Close'].iloc[i] + 2*df_short['Close'].iloc[i]\n",
    "            take_p=(1-tp)*buy\n",
    "            stop_l=(1+sl)*buy\n",
    "            flag=1  #ACTIVE TRADE\n",
    "        elif(flag==1):\n",
    "            latest_close = -df_long['Close'].iloc[i]+2*df_short['Close'].iloc[i]\n",
    "            if(latest_close <take_p):\n",
    "                sell=latest_close\n",
    "                flag=-1#Trade Closed\n",
    "                profit=buy-sell\n",
    "                break\n",
    "            elif(latest_close > stop_l):\n",
    "                sell = latest_close\n",
    "                flag=-1\n",
    "                profit=buy-sell\n",
    "                break\n",
    "\n",
    "        i+=1\n",
    "    if(flag==1):\n",
    "        sell= -df_long['Close'].iloc[i] + 2*df_short['Close'].iloc[i]\n",
    "        profit=buy-sell\n",
    "    return profit"
   ]
  },
  {
   "cell_type": "code",
   "execution_count": 71,
   "metadata": {},
   "outputs": [],
   "source": [
    "def butterfly_long_call(data,start,day_end,sl=0.4,tp=0.2):\n",
    "    profit=0\n",
    "    buy=0\n",
    "    sell=0\n",
    "    i = start\n",
    "    flag=0#START FLAG\n",
    "\n",
    "    option_strike= math.floor(stock['Close'].iloc[i]/50)*50\n",
    "    if(option_strike>22300 or option_strike<21850):\n",
    "      return\n",
    "    df_call= pd.read_csv(f\"./NIFTY 16th MAY {option_strike} CE.csv\")\n",
    "    option_strike_less = math.floor(stock['Close'].iloc[i]/50)*50 - 50\n",
    "    if(option_strike_less>22300 or option_strike_less<21850):\n",
    "      return\n",
    "    df_put_less = pd.read_csv(f\"./NIFTY 16th MAY {option_strike_less} CE.csv\")\n",
    "    option_strike_more = math.floor(stock['Close'].iloc[i]/50)*50 + 50\n",
    "    if(option_strike_more>22300 or option_strike_more<21850):\n",
    "      return\n",
    "    df_put_more = pd.read_csv(f\"./NIFTY 16th MAY {option_strike_more} CE.csv\")\n",
    "    \n",
    "\n",
    "    while (i < day_end):\n",
    "        if(flag==0):\n",
    "            buy= -2*df_call['Close'].iloc[i] + df_put_more['Close'].iloc[i] +df_put_less['Close'].iloc[i]\n",
    "            take_p=(1+tp)*buy\n",
    "            stop_l=(1-sl)*buy\n",
    "            flag=1  #ACTIVE TRADE\n",
    "        elif(flag==1):\n",
    "            latest_close =  -2*df_call['Close'].iloc[i] + df_put_more['Close'].iloc[i] +df_put_less['Close'].iloc[i]\n",
    "            if(latest_close >take_p):\n",
    "                sell=latest_close\n",
    "                flag=-1#Trade Closed\n",
    "                profit=sell-buy\n",
    "                break\n",
    "            elif(latest_close < stop_l):\n",
    "                sell = latest_close\n",
    "                flag=-1\n",
    "                profit=sell-buy\n",
    "                break\n",
    "\n",
    "        i+=1\n",
    "    if(flag==1):\n",
    "        sell=  -2*df_call['Close'].iloc[i] + df_put_more['Close'].iloc[i] +df_put_less['Close'].iloc[i]\n",
    "        profit=sell - buy\n",
    "    return profit\n",
    "    "
   ]
  },
  {
   "cell_type": "code",
   "execution_count": 72,
   "metadata": {},
   "outputs": [],
   "source": [
    "def butterfly_short_call(data,start,day_end,sl=0.4,tp=0.2):\n",
    "    profit=0\n",
    "    buy=0\n",
    "    sell=0\n",
    "    i = start\n",
    "    flag=0#START FLAG\n",
    "\n",
    "    option_strike= math.floor(stock['Close'].iloc[i]/50)*50\n",
    "    if(option_strike>22300 or option_strike<21850):\n",
    "      return\n",
    "    df_call= pd.read_csv(f\"./NIFTY 16th MAY {option_strike} CE.csv\")\n",
    "    option_strike_less = math.floor(stock['Close'].iloc[i]/50)*50 - 50\n",
    "    if(option_strike_less>22300 or option_strike_less<21850):\n",
    "      return\n",
    "    df_call_less = pd.read_csv(f\"./NIFTY 16th MAY {option_strike_less} CE.csv\")\n",
    "    option_strike_more = math.floor(stock['Close'].iloc[i]/50)*50 + 50\n",
    "    if(option_strike_more>22300 or option_strike_more<21850):\n",
    "      return\n",
    "    df_call_more = pd.read_csv(f\"./NIFTY 16th MAY {option_strike_more} CE.csv\")\n",
    "    \n",
    "\n",
    "    while (i < day_end):\n",
    "        if(flag==0):\n",
    "            buy= 2*df_call['Close'].iloc[i] - df_call_more['Close'].iloc[i] - df_call_less['Close'].iloc[i]\n",
    "            take_p=(1-tp)*buy\n",
    "            stop_l=(1+sl)*buy\n",
    "            flag=1  #ACTIVE TRADE\n",
    "        elif(flag==1):\n",
    "            latest_close =  2*df_call['Close'].iloc[i] - df_call_more['Close'].iloc[i] - df_call_less['Close'].iloc[i]\n",
    "            if(latest_close < take_p):\n",
    "                sell=latest_close\n",
    "                flag=-1#Trade Closed\n",
    "                profit=buy-sell\n",
    "                break\n",
    "            elif(latest_close > stop_l):\n",
    "                sell = latest_close\n",
    "                flag=-1\n",
    "                profit=buy-sell\n",
    "                break\n",
    "\n",
    "        i+=1\n",
    "    if(flag==1):\n",
    "        sell=  2*df_call['Close'].iloc[i] -df_call_more['Close'].iloc[i] -df_call_less['Close'].iloc[i]\n",
    "        profit=buy-sell\n",
    "    return profit\n",
    "    "
   ]
  },
  {
   "cell_type": "code",
   "execution_count": 81,
   "metadata": {},
   "outputs": [],
   "source": [
    "def butterfly_long_put(data,start,day_end,sl=0.4,tp=0.2):\n",
    "    profit=0\n",
    "    buy=0\n",
    "    sell=0\n",
    "    i = start\n",
    "    flag=0#START FLAG\n",
    "\n",
    "    option_strike= math.floor(stock['Close'].iloc[i]/50)*50\n",
    "    if(option_strike>22300 or option_strike<21850):\n",
    "      return\n",
    "    df_call= pd.read_csv(f\"./NIFTY 16th MAY {option_strike} PE.csv\")\n",
    "    option_strike_less = math.floor(stock['Close'].iloc[i]/50)*50 - 50\n",
    "    if(option_strike_less>22300 or option_strike_less<21850):\n",
    "      return\n",
    "    df_put_less = pd.read_csv(f\"./NIFTY 16th MAY {option_strike_less} PE.csv\")\n",
    "    option_strike_more = math.floor(stock['Close'].iloc[i]/50)*50 + 50\n",
    "    if(option_strike_more>22300 or option_strike_more<21850):\n",
    "      return\n",
    "    df_put_more = pd.read_csv(f\"./NIFTY 16th MAY {option_strike_more} PE.csv\")\n",
    "    \n",
    "\n",
    "    while (i < day_end):\n",
    "        if(flag==0):\n",
    "            buy= -2*df_call['Close'].iloc[i] + df_put_more['Close'].iloc[i] +df_put_less['Close'].iloc[i]\n",
    "            take_p=(1+tp)*buy\n",
    "            stop_l=(1-sl)*buy\n",
    "            flag=1  #ACTIVE TRADE\n",
    "        elif(flag==1):\n",
    "            latest_close =  -2*df_call['Close'].iloc[i] + df_put_more['Close'].iloc[i] +df_put_less['Close'].iloc[i]\n",
    "            if(latest_close >take_p):\n",
    "                sell=latest_close\n",
    "                flag=-1#Trade Closed\n",
    "                profit=sell-buy\n",
    "                break\n",
    "            elif(latest_close < stop_l):\n",
    "                sell = latest_close\n",
    "                flag=-1\n",
    "                profit=sell-buy\n",
    "                break\n",
    "\n",
    "        i+=1\n",
    "    if(flag==1):\n",
    "        sell=  -2*df_call['Close'].iloc[i] + df_put_more['Close'].iloc[i] +df_put_less['Close'].iloc[i]\n",
    "        profit=sell - buy\n",
    "    return profit"
   ]
  },
  {
   "cell_type": "code",
   "execution_count": 82,
   "metadata": {},
   "outputs": [],
   "source": [
    "def butterfly_short_put(data,start,day_end,sl=0.4,tp=0.2):\n",
    "    profit=0\n",
    "    buy=0\n",
    "    sell=0\n",
    "    i = start\n",
    "    flag=0#START FLAG\n",
    "\n",
    "    option_strike= math.floor(stock['Close'].iloc[i]/50)*50\n",
    "    if(option_strike>22300 or option_strike<21850):\n",
    "      return\n",
    "    df_call= pd.read_csv(f\"./NIFTY 16th MAY {option_strike} PE.csv\")\n",
    "    option_strike_less = math.floor(stock['Close'].iloc[i]/50)*50 - 50\n",
    "    if(option_strike_less>22300 or option_strike_less<21850):\n",
    "      return\n",
    "    df_call_less = pd.read_csv(f\"./NIFTY 16th MAY {option_strike_less} PE.csv\")\n",
    "    option_strike_more = math.floor(stock['Close'].iloc[i]/50)*50 + 50\n",
    "    if(option_strike_more>22300 or option_strike_more<21850):\n",
    "      return\n",
    "    df_call_more = pd.read_csv(f\"./NIFTY 16th MAY {option_strike_more} PE.csv\")\n",
    "    \n",
    "\n",
    "    while (i < day_end):\n",
    "        if(flag==0):\n",
    "            buy= 2*df_call['Close'].iloc[i] - df_call_more['Close'].iloc[i] - df_call_less['Close'].iloc[i]\n",
    "            take_p=(1-tp)*buy\n",
    "            stop_l=(1+sl)*buy\n",
    "            flag=1  #ACTIVE TRADE\n",
    "        elif(flag==1):\n",
    "            latest_close =  2*df_call['Close'].iloc[i] - df_call_more['Close'].iloc[i] - df_call_less['Close'].iloc[i]\n",
    "            if(latest_close < take_p):\n",
    "                sell=latest_close\n",
    "                flag=-1#Trade Closed\n",
    "                profit=buy-sell\n",
    "                break\n",
    "            elif(latest_close > stop_l):\n",
    "                sell = latest_close\n",
    "                flag=-1\n",
    "                profit=buy-sell\n",
    "                break\n",
    "\n",
    "        i+=1\n",
    "    if(flag==1):\n",
    "        sell=  2*df_call['Close'].iloc[i] -df_call_more['Close'].iloc[i] -df_call_less['Close'].iloc[i]\n",
    "        profit=buy-sell\n",
    "    return profit"
   ]
  },
  {
   "cell_type": "markdown",
   "metadata": {
    "jp-MarkdownHeadingCollapsed": true
   },
   "source": [
    "## BACKTESTING STRATEGIES"
   ]
  },
  {
   "cell_type": "markdown",
   "metadata": {},
   "source": [
    "#### Long Strangle"
   ]
  },
  {
   "cell_type": "code",
   "execution_count": 73,
   "metadata": {
    "colab": {
     "base_uri": "https://localhost:8080/"
    },
    "executionInfo": {
     "elapsed": 855,
     "status": "ok",
     "timestamp": 1718048585514,
     "user": {
      "displayName": "aman sanwal",
      "userId": "08675761592837002016"
     },
     "user_tz": -330
    },
    "id": "1tq8UsBKeZCJ",
    "outputId": "f6c97210-3c13-49b2-93a7-d39d707b54fd",
    "scrolled": true
   },
   "outputs": [
    {
     "name": "stdout",
     "output_type": "stream",
     "text": [
      "189.60000000000133\n",
      "99\n"
     ]
    }
   ],
   "source": [
    "fin_pnl=[]\n",
    "for i in range(len(stock)):\n",
    "    option_strike = round(stock['Close'].iloc[i]/50)*50\n",
    "    j = int((option_strike-21850)/50)\n",
    "    if(call_data[j]['IVper'].iloc[i]>50):\n",
    "            if(i<66 and i>2):\n",
    "                pnl=long_strangle(stock, i, 66)\n",
    "                if pnl is not None:\n",
    "                  fin_pnl.append(pnl)\n",
    "            elif(i<141 and i>68):\n",
    "                 pnl=long_strangle(stock, i, 141)\n",
    "                 if pnl is not None:\n",
    "                   fin_pnl.append(pnl)\n",
    "            elif(i<216 and i>143):\n",
    "                pnl=long_strangle(stock,i,216)\n",
    "                if pnl is not None:\n",
    "                  fin_pnl.append(pnl)\n",
    "            elif(i>218):\n",
    "                pnl=long_strangle(stock,i,290)\n",
    "                if pnl is not None:\n",
    "                  fin_pnl.append(pnl)\n",
    "\n",
    "print(sum(fin_pnl))\n",
    "print(len(fin_pnl))\n"
   ]
  },
  {
   "cell_type": "markdown",
   "metadata": {},
   "source": [
    "#### Short Strangle"
   ]
  },
  {
   "cell_type": "code",
   "execution_count": 74,
   "metadata": {
    "colab": {
     "base_uri": "https://localhost:8080/"
    },
    "executionInfo": {
     "elapsed": 1295,
     "status": "ok",
     "timestamp": 1718048586804,
     "user": {
      "displayName": "aman sanwal",
      "userId": "08675761592837002016"
     },
     "user_tz": -330
    },
    "id": "L_erk4iSKf64",
    "outputId": "a6750eb8-4281-42f3-ec74-db3a0e36e47e"
   },
   "outputs": [
    {
     "name": "stdout",
     "output_type": "stream",
     "text": [
      "309.5499999999986\n",
      "173\n"
     ]
    }
   ],
   "source": [
    "fin_pnl=[]\n",
    "for i in range(len(stock)):\n",
    "    option_strike = round(stock['Close'].iloc[i]/50)*50\n",
    "    j = int((option_strike-21850)/50)\n",
    "    if(call_data[j]['IVper'].iloc[i]<50):\n",
    "            if(i<66 and i>2):\n",
    "                pnl=short_strangle(stock, i, 66)\n",
    "                if pnl is not None:\n",
    "                  fin_pnl.append(pnl)\n",
    "            elif(i<141 and i>68):\n",
    "                 pnl=short_strangle(stock, i, 141)\n",
    "                 if pnl is not None:\n",
    "                   fin_pnl.append(pnl)\n",
    "            elif(i<216 and i>143):\n",
    "                pnl=short_strangle(stock,i,216)\n",
    "                if pnl is not None:\n",
    "                  fin_pnl.append(pnl)\n",
    "            elif(i>218):\n",
    "                pnl=short_strangle(stock,i,290)\n",
    "                if pnl is not None:\n",
    "                  fin_pnl.append(pnl)\n",
    "\n",
    "print(sum(fin_pnl))\n",
    "print(len(fin_pnl))\n"
   ]
  },
  {
   "cell_type": "markdown",
   "metadata": {},
   "source": [
    "#### Short Straddle"
   ]
  },
  {
   "cell_type": "code",
   "execution_count": 75,
   "metadata": {
    "colab": {
     "base_uri": "https://localhost:8080/"
    },
    "executionInfo": {
     "elapsed": 1136,
     "status": "ok",
     "timestamp": 1718048587935,
     "user": {
      "displayName": "aman sanwal",
      "userId": "08675761592837002016"
     },
     "user_tz": -330
    },
    "id": "89obZk-eZHPj",
    "outputId": "adffe5e5-7861-43c4-dd4b-58541cfe5904"
   },
   "outputs": [
    {
     "name": "stdout",
     "output_type": "stream",
     "text": [
      "353.9499999999997\n",
      "174\n"
     ]
    }
   ],
   "source": [
    "fin_pnl=[]\n",
    "for i in range(len(stock)):\n",
    "    option_strike = round(stock['Close'].iloc[i]/50)*50\n",
    "    j = int((option_strike-21850)/50)\n",
    "    if(call_data[j]['IVper'].iloc[i]<50):\n",
    "            if(i<66 and i>2):\n",
    "                pnl=short_straddle(stock, i, 66)\n",
    "                if pnl is not None:\n",
    "                  fin_pnl.append(pnl)\n",
    "            elif(i<141 and i>68):\n",
    "                 pnl=short_straddle(stock, i, 141)\n",
    "                 if pnl is not None:\n",
    "                   fin_pnl.append(pnl)\n",
    "            elif(i<216 and i>143):\n",
    "                pnl=short_straddle(stock,i,216)\n",
    "                if pnl is not None:\n",
    "                  fin_pnl.append(pnl)\n",
    "            elif(i>218):\n",
    "                pnl=short_straddle(stock,i,290)\n",
    "                if pnl is not None:\n",
    "                  fin_pnl.append(pnl)\n",
    "\n",
    "print(sum(fin_pnl))\n",
    "print(len(fin_pnl))"
   ]
  },
  {
   "cell_type": "markdown",
   "metadata": {},
   "source": [
    "#### Long Straddle"
   ]
  },
  {
   "cell_type": "code",
   "execution_count": 76,
   "metadata": {
    "colab": {
     "base_uri": "https://localhost:8080/"
    },
    "executionInfo": {
     "elapsed": 689,
     "status": "ok",
     "timestamp": 1718048588620,
     "user": {
      "displayName": "aman sanwal",
      "userId": "08675761592837002016"
     },
     "user_tz": -330
    },
    "id": "rUHDj439Z9Z-",
    "outputId": "29a4688c-a81f-4e35-91d2-39299b1d4deb"
   },
   "outputs": [
    {
     "name": "stdout",
     "output_type": "stream",
     "text": [
      "497.3500000000007\n",
      "102\n"
     ]
    }
   ],
   "source": [
    "fin_pnl=[]\n",
    "for i in range(len(stock)):\n",
    "    option_strike = round(stock['Close'].iloc[i]/50)*50\n",
    "    j = int((option_strike-21850)/50)\n",
    "    if(call_data[j]['IVper'].iloc[i]>50):\n",
    "            if(i<66 and i>2):\n",
    "                pnl=long_straddle(stock, i, 66)\n",
    "                if pnl is not None:\n",
    "                  fin_pnl.append(pnl)\n",
    "            elif(i<141 and i>68):\n",
    "                 pnl=long_straddle(stock, i, 141)\n",
    "                 if pnl is not None:\n",
    "                   fin_pnl.append(pnl)\n",
    "            elif(i<216 and i>143):\n",
    "                pnl=long_straddle(stock,i,216)\n",
    "                if pnl is not None:\n",
    "                  fin_pnl.append(pnl)\n",
    "            elif(i>218):\n",
    "                pnl=long_straddle(stock,i,290)\n",
    "                if pnl is not None:\n",
    "                  fin_pnl.append(pnl)\n",
    "\n",
    "print(sum(fin_pnl))\n",
    "print(len(fin_pnl))"
   ]
  },
  {
   "cell_type": "markdown",
   "metadata": {},
   "source": [
    "#### Ratio Spread Put"
   ]
  },
  {
   "cell_type": "code",
   "execution_count": 77,
   "metadata": {
    "colab": {
     "base_uri": "https://localhost:8080/"
    },
    "executionInfo": {
     "elapsed": 558,
     "status": "ok",
     "timestamp": 1718048754834,
     "user": {
      "displayName": "aman sanwal",
      "userId": "08675761592837002016"
     },
     "user_tz": -330
    },
    "id": "EZ8UIQHOpPCV",
    "outputId": "810df4db-4d4c-492c-d387-8e0b8dc1597e"
   },
   "outputs": [
    {
     "name": "stdout",
     "output_type": "stream",
     "text": [
      "146.6000000000001\n",
      "15\n"
     ]
    },
    {
     "data": {
      "text/plain": [
       "[21.200000000000003,\n",
       " -30.25,\n",
       " -22.899999999999977,\n",
       " -5.099999999999994,\n",
       " -15.25,\n",
       " 7.0,\n",
       " 22.500000000000014,\n",
       " 23.34999999999998,\n",
       " 22.750000000000014,\n",
       " 19.450000000000017,\n",
       " 22.450000000000017,\n",
       " 23.300000000000026,\n",
       " 15.549999999999997,\n",
       " 22.94999999999999,\n",
       " 19.600000000000023]"
      ]
     },
     "execution_count": 77,
     "metadata": {},
     "output_type": "execute_result"
    }
   ],
   "source": [
    "fin_pnl=[]\n",
    "for i in range(len(stock)):\n",
    "    option_strike = round(stock['Close'].iloc[i]/50)*50\n",
    "    j = int((option_strike-21850)/50)\n",
    "    if(call_data[j]['IVper'].iloc[i]<50):\n",
    "            if(i<66 and i>2):\n",
    "              if(stock['signals'].iloc[i]==-1):\n",
    "                pnl=ratio_spread_put(stock, i, 66)\n",
    "                if pnl is not None:\n",
    "                  fin_pnl.append(pnl)\n",
    "            elif(i<141 and i>68):\n",
    "              if(stock['signals'].iloc[i]==-1):\n",
    "                 pnl=ratio_spread_put(stock, i, 141)\n",
    "                 if pnl is not None:\n",
    "                   fin_pnl.append(pnl)\n",
    "            elif(i<216 and i>143):\n",
    "              if(stock['signals'].iloc[i]==-1):\n",
    "                pnl=ratio_spread_put(stock,i,216)\n",
    "                if pnl is not None:\n",
    "                  fin_pnl.append(pnl)\n",
    "            elif(i>218):\n",
    "              if(stock['signals'].iloc[i]==-1):\n",
    "                pnl=ratio_spread_put(stock,i,290)\n",
    "                if pnl is not None:\n",
    "                  fin_pnl.append(pnl)\n",
    "\n",
    "print(sum(fin_pnl))\n",
    "print(len(fin_pnl))\n",
    "fin_pnl"
   ]
  },
  {
   "cell_type": "markdown",
   "metadata": {},
   "source": [
    "#### Ratio Spread Call"
   ]
  },
  {
   "cell_type": "code",
   "execution_count": 78,
   "metadata": {
    "colab": {
     "base_uri": "https://localhost:8080/"
    },
    "executionInfo": {
     "elapsed": 899,
     "status": "ok",
     "timestamp": 1718048727161,
     "user": {
      "displayName": "aman sanwal",
      "userId": "08675761592837002016"
     },
     "user_tz": -330
    },
    "id": "24a9OED7qlvS",
    "outputId": "352dbeb1-c088-48bd-a32f-1d397014de0a"
   },
   "outputs": [
    {
     "name": "stdout",
     "output_type": "stream",
     "text": [
      "62.45000000000002\n",
      "8\n"
     ]
    },
    {
     "data": {
      "text/plain": [
       "[24.599999999999994,\n",
       " 19.75000000000003,\n",
       " 19.849999999999994,\n",
       " 23.350000000000023,\n",
       " -23.400000000000006,\n",
       " -24.450000000000017,\n",
       " 12.0,\n",
       " 10.75]"
      ]
     },
     "execution_count": 78,
     "metadata": {},
     "output_type": "execute_result"
    }
   ],
   "source": [
    "fin_pnl=[]\n",
    "for i in range(len(stock)):\n",
    "    option_strike = round(stock['Close'].iloc[i]/50)*50\n",
    "    j = int((option_strike-21850)/50)\n",
    "    if(call_data[j]['IVper'].iloc[i]<50):\n",
    "            if(i<66 and i>2):\n",
    "              if(stock['signals'].iloc[i]==1):\n",
    "                pnl=ratio_spread_call(stock, i, 66)\n",
    "                if pnl is not None:\n",
    "                  fin_pnl.append(pnl)\n",
    "            elif(i<141 and i>68):\n",
    "              if(stock['signals'].iloc[i]==1):\n",
    "                 pnl=ratio_spread_call(stock, i, 141)\n",
    "                 if pnl is not None:\n",
    "                   fin_pnl.append(pnl)\n",
    "            elif(i<216 and i>143):\n",
    "              if(stock['signals'].iloc[i]==1):\n",
    "                pnl=ratio_spread_call(stock,i,216)\n",
    "                if pnl is not None:\n",
    "                  fin_pnl.append(pnl)\n",
    "            elif(i>218):\n",
    "              if(stock['signals'].iloc[i]==1):\n",
    "                pnl=ratio_spread_call(stock,i,290)\n",
    "                if pnl is not None:\n",
    "                  fin_pnl.append(pnl)\n",
    "\n",
    "print(sum(fin_pnl))\n",
    "print(len(fin_pnl))\n",
    "fin_pnl"
   ]
  },
  {
   "cell_type": "markdown",
   "metadata": {},
   "source": [
    "#### Long Butterfly Call"
   ]
  },
  {
   "cell_type": "code",
   "execution_count": 79,
   "metadata": {},
   "outputs": [
    {
     "name": "stdout",
     "output_type": "stream",
     "text": [
      "5.449999999999932\n",
      "16\n"
     ]
    },
    {
     "data": {
      "text/plain": [
       "[0.6499999999999773,\n",
       " 0.6999999999999886,\n",
       " 0.9999999999999716,\n",
       " 0.6500000000000057,\n",
       " 0.6499999999999773,\n",
       " 0.8500000000000227,\n",
       " 1.400000000000034,\n",
       " 0.549999999999983,\n",
       " -1.75,\n",
       " -1.150000000000034,\n",
       " -2.3499999999999943,\n",
       " 0.2500000000000284,\n",
       " 1.3500000000000227,\n",
       " 0.8499999999999943,\n",
       " 0.9000000000000057,\n",
       " 0.8999999999999488]"
      ]
     },
     "execution_count": 79,
     "metadata": {},
     "output_type": "execute_result"
    }
   ],
   "source": [
    "fin_pnl=[]\n",
    "for i in range(len(stock)):\n",
    "    option_strike = round(stock['Close'].iloc[i]/50)*50\n",
    "    j = int((option_strike-21850)/50)\n",
    "    if(call_data[j]['IVper'].iloc[i]>50):\n",
    "            if(i<66 and i>2):\n",
    "              if(stock['signals'].iloc[i]==1):\n",
    "                pnl=butterfly_long_call(stock, i, 66)\n",
    "                if pnl is not None:\n",
    "                  fin_pnl.append(pnl)\n",
    "            elif(i<141 and i>68):\n",
    "              if(stock['signals'].iloc[i]==1):\n",
    "                 pnl=butterfly_long_call(stock, i, 141)\n",
    "                 if pnl is not None:\n",
    "                   fin_pnl.append(pnl)\n",
    "            elif(i<216 and i>143):\n",
    "              if(stock['signals'].iloc[i]==1):\n",
    "                pnl=butterfly_long_call(stock,i,216)\n",
    "                if pnl is not None:\n",
    "                  fin_pnl.append(pnl)\n",
    "            elif(i>218):\n",
    "              if(stock['signals'].iloc[i]==1):\n",
    "                pnl=butterfly_long_call(stock,i,290)\n",
    "                if pnl is not None:\n",
    "                  fin_pnl.append(pnl)\n",
    "\n",
    "print(sum(fin_pnl))\n",
    "print(len(fin_pnl))\n",
    "fin_pnl"
   ]
  },
  {
   "cell_type": "markdown",
   "metadata": {},
   "source": [
    "#### Short Butterfly Call"
   ]
  },
  {
   "cell_type": "code",
   "execution_count": 80,
   "metadata": {},
   "outputs": [
    {
     "name": "stdout",
     "output_type": "stream",
     "text": [
      "0.10000000000002274\n",
      "13\n"
     ]
    },
    {
     "data": {
      "text/plain": [
       "[-0.5000000000000284,\n",
       " -0.24999999999997158,\n",
       " 0.4999999999999716,\n",
       " 0.05000000000003979,\n",
       " -0.15000000000000568,\n",
       " -2.842170943040401e-14,\n",
       " 0.45000000000001705,\n",
       " -0.799999999999983,\n",
       " -0.05000000000002558,\n",
       " 0.700000000000017,\n",
       " -0.4000000000000057,\n",
       " 2.842170943040401e-14,\n",
       " 0.5499999999999972]"
      ]
     },
     "execution_count": 80,
     "metadata": {},
     "output_type": "execute_result"
    }
   ],
   "source": [
    "fin_pnl=[]\n",
    "for i in range(len(stock)):\n",
    "    option_strike = round(stock['Close'].iloc[i]/50)*50\n",
    "    j = int((option_strike-21850)/50)\n",
    "    if(call_data[j]['IVper'].iloc[i]<50):\n",
    "            if(i<66 and i>2):\n",
    "              if(stock['signals'].iloc[i]==1):\n",
    "                pnl=butterfly_short_call(stock, i, 66)\n",
    "                if pnl is not None:\n",
    "                  fin_pnl.append(pnl)\n",
    "            elif(i<141 and i>68):\n",
    "              if(stock['signals'].iloc[i]==1):\n",
    "                 pnl=butterfly_short_call(stock, i, 141)\n",
    "                 if pnl is not None:\n",
    "                   fin_pnl.append(pnl)\n",
    "            elif(i<216 and i>143):\n",
    "              if(stock['signals'].iloc[i]==1):\n",
    "                pnl=butterfly_short_call(stock,i,216)\n",
    "                if pnl is not None:\n",
    "                  fin_pnl.append(pnl)\n",
    "            elif(i>218):\n",
    "              if(stock['signals'].iloc[i]==1):\n",
    "                pnl=butterfly_short_call(stock,i,290)\n",
    "                if pnl is not None:\n",
    "                  fin_pnl.append(pnl)\n",
    "\n",
    "print(sum(fin_pnl))\n",
    "print(len(fin_pnl))\n",
    "fin_pnl"
   ]
  },
  {
   "cell_type": "markdown",
   "metadata": {},
   "source": [
    "#### Long Butterfly Put"
   ]
  },
  {
   "cell_type": "code",
   "execution_count": 85,
   "metadata": {},
   "outputs": [
    {
     "name": "stdout",
     "output_type": "stream",
     "text": [
      "91.5999999999998\n",
      "13\n"
     ]
    },
    {
     "data": {
      "text/plain": [
       "[0.5500000000000256,\n",
       " 1.2000000000000028,\n",
       " 2.499999999999986,\n",
       " 0.44999999999998863,\n",
       " 0.8500000000000085,\n",
       " 0.8499999999999943,\n",
       " 0.8000000000000114,\n",
       " -1.3500000000000014,\n",
       " 12.649999999999977,\n",
       " 19.149999999999977,\n",
       " 27.0,\n",
       " 15.099999999999909,\n",
       " 11.849999999999909]"
      ]
     },
     "execution_count": 85,
     "metadata": {},
     "output_type": "execute_result"
    }
   ],
   "source": [
    "fin_pnl=[]\n",
    "for i in range(len(stock)):\n",
    "    option_strike = round(stock['Close'].iloc[i]/50)*50\n",
    "    j = int((option_strike-21850)/50)\n",
    "    if(call_data[j]['IVper'].iloc[i]<50):\n",
    "            if(i<66 and i>2):\n",
    "              if(stock['signals'].iloc[i]==1):\n",
    "                pnl=butterfly_long_put(stock, i, 66)\n",
    "                if pnl is not None:\n",
    "                  fin_pnl.append(pnl)\n",
    "            elif(i<141 and i>68):\n",
    "              if(stock['signals'].iloc[i]==1):\n",
    "                 pnl=butterfly_long_put(stock, i, 141)\n",
    "                 if pnl is not None:\n",
    "                   fin_pnl.append(pnl)\n",
    "            elif(i<216 and i>143):\n",
    "              if(stock['signals'].iloc[i]==1):\n",
    "                pnl=butterfly_long_put(stock,i,216)\n",
    "                if pnl is not None:\n",
    "                  fin_pnl.append(pnl)\n",
    "            elif(i>218):\n",
    "              if(stock['signals'].iloc[i]==1):\n",
    "                pnl=butterfly_long_put(stock,i,290)\n",
    "                if pnl is not None:\n",
    "                  fin_pnl.append(pnl)\n",
    "\n",
    "print(sum(fin_pnl))\n",
    "print(len(fin_pnl))\n",
    "fin_pnl"
   ]
  },
  {
   "cell_type": "markdown",
   "metadata": {},
   "source": [
    "#### Short Butterfly Put"
   ]
  },
  {
   "cell_type": "code",
   "execution_count": 87,
   "metadata": {},
   "outputs": [
    {
     "name": "stdout",
     "output_type": "stream",
     "text": [
      "2.69999999999996\n",
      "16\n"
     ]
    },
    {
     "data": {
      "text/plain": [
       "[0.049999999999968736,\n",
       " -0.20000000000000284,\n",
       " -0.39999999999996305,\n",
       " 0.3499999999999943,\n",
       " -0.6499999999999915,\n",
       " 0.549999999999983,\n",
       " 0.14999999999999147,\n",
       " -0.4999999999999858,\n",
       " 0.8499999999999943,\n",
       " 1.1999999999999886,\n",
       " 1.0499999999999972,\n",
       " -0.3500000000000085,\n",
       " 0.30000000000001137,\n",
       " 0.0999999999999801,\n",
       " -0.1500000000000199,\n",
       " 0.35000000000002274]"
      ]
     },
     "execution_count": 87,
     "metadata": {},
     "output_type": "execute_result"
    }
   ],
   "source": [
    "fin_pnl=[]\n",
    "for i in range(len(stock)):\n",
    "    option_strike = round(stock['Close'].iloc[i]/50)*50\n",
    "    j = int((option_strike-21850)/50)\n",
    "    if(call_data[j]['IVper'].iloc[i]>50):\n",
    "            if(i<66 and i>2):\n",
    "              if(stock['signals'].iloc[i]==1):\n",
    "                pnl=butterfly_short_put(stock, i, 66)\n",
    "                if pnl is not None:\n",
    "                  fin_pnl.append(pnl)\n",
    "            elif(i<141 and i>68):\n",
    "              if(stock['signals'].iloc[i]==1):\n",
    "                 pnl=butterfly_short_put(stock, i, 141)\n",
    "                 if pnl is not None:\n",
    "                   fin_pnl.append(pnl)\n",
    "            elif(i<216 and i>143):\n",
    "              if(stock['signals'].iloc[i]==1):\n",
    "                pnl=butterfly_short_put(stock,i,216)\n",
    "                if pnl is not None:\n",
    "                  fin_pnl.append(pnl)\n",
    "            elif(i>218):\n",
    "              if(stock['signals'].iloc[i]==1):\n",
    "                pnl=butterfly_short_put(stock,i,290)\n",
    "                if pnl is not None:\n",
    "                  fin_pnl.append(pnl)\n",
    "\n",
    "print(sum(fin_pnl))\n",
    "print(len(fin_pnl))\n",
    "fin_pnl"
   ]
  }
 ],
 "metadata": {
  "colab": {
   "provenance": []
  },
  "kernelspec": {
   "display_name": "Python 3 (ipykernel)",
   "language": "python",
   "name": "python3"
  },
  "language_info": {
   "codemirror_mode": {
    "name": "ipython",
    "version": 3
   },
   "file_extension": ".py",
   "mimetype": "text/x-python",
   "name": "python",
   "nbconvert_exporter": "python",
   "pygments_lexer": "ipython3",
   "version": "3.12.3"
  }
 },
 "nbformat": 4,
 "nbformat_minor": 4
}
